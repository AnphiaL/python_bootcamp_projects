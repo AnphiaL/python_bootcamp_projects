{
 "cells": [
  {
   "cell_type": "markdown",
   "id": "952c1329",
   "metadata": {},
   "source": [
    "# Sieve of Eratosthenes"
   ]
  },
  {
   "cell_type": "markdown",
   "id": "6f4dc482",
   "metadata": {},
   "source": [
    "The sieve of Eratosthenes is one of the most efficient ways to find all of the smaller primes (below 10 million or so)."
   ]
  },
  {
   "cell_type": "markdown",
   "id": "0dc80d98",
   "metadata": {},
   "source": [
    "**Explanation:**\n",
    "\n",
    "Let us take an example when n = 50. So we need to print all prime numbers smaller than or equal to 50. \n",
    "\n",
    "We create a list of all numbers from 2 to 50.  \n",
    "\n",
    "![original plot](https://media.geeksforgeeks.org/wp-content/uploads/SieveofEratosthenes1.jpg)\n",
    "\n",
    "According to the algorithm we will mark all the numbers which are divisible by 2 and are greater than or equal to the square of it. \n",
    "\n",
    "![mark numbers which are divisble by 2](https://media.geeksforgeeks.org/wp-content/uploads/SieveofEratosthenes2.jpg)\n",
    "\n",
    "Now we move to our next unmarked number 3 and mark all the numbers which are multiples of 3 and are greater than or equal to the square of it.  \n",
    "\n",
    "![mark numbers which are divisible by 3](https://media.geeksforgeeks.org/wp-content/cdn-uploads/SieveofEratosthenes3.jpg)\n",
    "\n",
    "We move to our next unmarked number 5 and mark all multiples of 5 and are greater than or equal to the square of it.  \n",
    "![mark numbers which are divisible by 5](https://media.geeksforgeeks.org/wp-content/uploads/SieveofEratosthenes4.jpg)"
   ]
  },
  {
   "cell_type": "markdown",
   "id": "37c2faf9",
   "metadata": {},
   "source": [
    "[Reference](https://www.geeksforgeeks.org/sieve-of-eratosthenes/)"
   ]
  },
  {
   "cell_type": "code",
   "execution_count": 9,
   "id": "4ce6baee",
   "metadata": {},
   "outputs": [
    {
     "name": "stdout",
     "output_type": "stream",
     "text": [
      "2\n",
      "3\n",
      "5\n",
      "7\n",
      "11\n",
      "13\n",
      "17\n",
      "19\n",
      "23\n",
      "29\n"
     ]
    }
   ],
   "source": [
    "def sieve_of_eratoshenes(number):\n",
    "    \n",
    "    prime = [True for n in range(number+1)]\n",
    "    sieve = 2\n",
    "    \n",
    "    while sieve**2 <= number:\n",
    "        \n",
    "        if (prime[sieve] == True):\n",
    "            for i in range(sieve**2, number+1, sieve):\n",
    "                prime[i] = False\n",
    "        sieve += 1\n",
    "        \n",
    "    for index in range(2,number+1):\n",
    "        if prime[index] == True:\n",
    "            print(index)\n",
    "\n",
    "sieve_of_eratoshenes(30)"
   ]
  },
  {
   "cell_type": "markdown",
   "id": "24919d7a",
   "metadata": {},
   "source": [
    "**Complexity of the Program**\n",
    "\n",
    "Time Complexity: O(n*log(log(n)))"
   ]
  }
 ],
 "metadata": {
  "kernelspec": {
   "display_name": "Python 3",
   "language": "python",
   "name": "python3"
  },
  "language_info": {
   "codemirror_mode": {
    "name": "ipython",
    "version": 3
   },
   "file_extension": ".py",
   "mimetype": "text/x-python",
   "name": "python",
   "nbconvert_exporter": "python",
   "pygments_lexer": "ipython3",
   "version": "3.8.8"
  }
 },
 "nbformat": 4,
 "nbformat_minor": 5
}
