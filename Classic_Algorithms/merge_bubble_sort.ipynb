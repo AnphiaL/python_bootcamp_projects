{
 "cells": [
  {
   "cell_type": "markdown",
   "id": "4fc36ae9",
   "metadata": {},
   "source": [
    "# Merge Sort and Bubble Sort"
   ]
  },
  {
   "cell_type": "markdown",
   "id": "44531e84",
   "metadata": {},
   "source": [
    "Implement two types of sorting algorithms: Merge sort and bubble sort."
   ]
  },
  {
   "cell_type": "markdown",
   "id": "370f876c",
   "metadata": {},
   "source": [
    "**What is Merge Sort?**\n",
    "\n",
    "Like QuickSort, Merge Sort is a Divide and Conquer algorithm. It divides the input array into two halves, calls itself for the two halves, and then it merges the two sorted halves. The merge() function is used for merging two halves. The merge(arr, l, m, r) is a key process that assumes that arr[l..m] and arr[m+1..r] are sorted and merges the two sorted sub-arrays into one. "
   ]
  },
  {
   "cell_type": "markdown",
   "id": "3d4495e9",
   "metadata": {},
   "source": [
    "![Merge Sort](https://media.geeksforgeeks.org/wp-content/cdn-uploads/Merge-Sort-Tutorial.png)"
   ]
  },
  {
   "cell_type": "markdown",
   "id": "0a227b59",
   "metadata": {},
   "source": [
    "**What is Bubble Sort?**\n",
    "\n",
    "Bubble Sort is the simplest sorting algorithm that works by repeatedly swapping the adjacent elements if they are in the wrong order."
   ]
  },
  {
   "cell_type": "markdown",
   "id": "b291dbd6",
   "metadata": {},
   "source": [
    "![Bubble Sort](https://media.geeksforgeeks.org/wp-content/cdn-uploads/gq/2014/02/bubble-sort1.png)"
   ]
  },
  {
   "cell_type": "code",
   "execution_count": 40,
   "id": "761b2800",
   "metadata": {},
   "outputs": [],
   "source": [
    "def merge_sort(arr):\n",
    "    \n",
    "    if len(arr) > 1:\n",
    "  \n",
    "         # Finding the mid of the array\n",
    "        mid = len(arr)//2\n",
    "  \n",
    "        # Dividing the array elements\n",
    "        L = arr[:mid]\n",
    "  \n",
    "        # into 2 halves\n",
    "        R = arr[mid:]\n",
    "  \n",
    "        # Sorting the first half\n",
    "        merge_sort(L)\n",
    "  \n",
    "        # Sorting the second half\n",
    "        merge_sort(R)\n",
    "  \n",
    "        i = j = k = 0\n",
    "  \n",
    "        # Copy data to temp arrays L[] and R[]\n",
    "        while i < len(L) and j < len(R):\n",
    "            if L[i] < R[j]:\n",
    "                arr[k] = L[i]\n",
    "                i += 1\n",
    "            else:\n",
    "                arr[k] = R[j]\n",
    "                j += 1\n",
    "            k += 1\n",
    "  \n",
    "        # Checking if any element was left\n",
    "        while i < len(L):\n",
    "            arr[k] = L[i]\n",
    "            i += 1\n",
    "            k += 1\n",
    "  \n",
    "        while j < len(R):\n",
    "            arr[k] = R[j]\n",
    "            j += 1\n",
    "            k += 1\n",
    "            \n",
    "    return arr"
   ]
  },
  {
   "cell_type": "code",
   "execution_count": 41,
   "id": "7cb8a27e",
   "metadata": {},
   "outputs": [
    {
     "data": {
      "text/plain": [
       "[1, 2, 3, 3, 7, 8, 9]"
      ]
     },
     "execution_count": 41,
     "metadata": {},
     "output_type": "execute_result"
    }
   ],
   "source": [
    "my_list = [3,2,1,3,9,7,8]\n",
    "merge_sort(my_list)"
   ]
  },
  {
   "cell_type": "code",
   "execution_count": 33,
   "id": "b3296c7c",
   "metadata": {},
   "outputs": [],
   "source": [
    "def bubble_sort(num_list):\n",
    "    \n",
    "    length = len(num_list)\n",
    "    \n",
    "    for i in range(length):\n",
    "        #swap = False\n",
    "        bubble = False\n",
    "        \n",
    "        for j in range(length-i-1):\n",
    "            if num_list[j] > num_list[j+1]:\n",
    "                #if there are elements needed to be swapeed: swap = True\n",
    "                bubble = True\n",
    "                num_list[j], num_list[j+1] = num_list[j+1], num_list[j]\n",
    "        \n",
    "        #if no two elements were swapped by inner loop then break\n",
    "        if bubble == False:\n",
    "            break\n",
    "    \n",
    "    return num_list"
   ]
  },
  {
   "cell_type": "code",
   "execution_count": 35,
   "id": "251aa61d",
   "metadata": {},
   "outputs": [
    {
     "data": {
      "text/plain": [
       "[1, 2, 3, 3, 7, 8, 9]"
      ]
     },
     "execution_count": 35,
     "metadata": {},
     "output_type": "execute_result"
    }
   ],
   "source": [
    "my_list = [3,2,1,3,9,7,8]\n",
    "bubble_sort(my_list)"
   ]
  }
 ],
 "metadata": {
  "kernelspec": {
   "display_name": "Python 3",
   "language": "python",
   "name": "python3"
  },
  "language_info": {
   "codemirror_mode": {
    "name": "ipython",
    "version": 3
   },
   "file_extension": ".py",
   "mimetype": "text/x-python",
   "name": "python",
   "nbconvert_exporter": "python",
   "pygments_lexer": "ipython3",
   "version": "3.8.8"
  }
 },
 "nbformat": 4,
 "nbformat_minor": 5
}
