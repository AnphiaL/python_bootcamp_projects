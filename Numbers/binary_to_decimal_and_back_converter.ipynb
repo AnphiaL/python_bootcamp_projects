{
 "cells": [
  {
   "cell_type": "markdown",
   "id": "04ab0ca7",
   "metadata": {},
   "source": [
    "# Binary to Decimal and Back Converter "
   ]
  },
  {
   "cell_type": "markdown",
   "id": "c9a43538",
   "metadata": {},
   "source": [
    "Develop a converter to convert a decimal number to binary or a binary number to its decimal equivalent."
   ]
  },
  {
   "cell_type": "code",
   "execution_count": 44,
   "id": "7617b0d1",
   "metadata": {},
   "outputs": [],
   "source": [
    "def converter(number):\n",
    "    \n",
    "    number = int(number)\n",
    "\n",
    "    if convert_option == \"Binary\":\n",
    "        return bin(number).replace(\"0b\",\"\")\n",
    "        \n",
    "    if convert_option == \"Decimal\":\n",
    "            decimal, i, n = 0, 0, 0\n",
    "            while(number != 0):\n",
    "                dec = number % 10\n",
    "                decimal = decimal + dec * pow(2,i)\n",
    "                number = number//10\n",
    "                i += 1\n",
    "            return decimal"
   ]
  },
  {
   "cell_type": "code",
   "execution_count": 45,
   "id": "757d0a59",
   "metadata": {},
   "outputs": [
    {
     "name": "stdout",
     "output_type": "stream",
     "text": [
      "Please enter the number you want to convert: 1001010101\n",
      "What kind of number you want to convert to? Enter Binary or Decimal.Decimal\n"
     ]
    }
   ],
   "source": [
    "number = input(\"Please enter the number you want to convert: \")\n",
    "while number.isdigit() == False:\n",
    "    number = input(\"I don't understand. Please enter the number you want to convert: \")\n",
    "\n",
    "convert_option = input(\"What kind of number you want to convert to? Enter Binary or Decimal.\")\n",
    "while convert_option != \"Binary\" and convert_option != \"Decimal\":\n",
    "    convert_option = input(\"I don't understand. Please enter Binary or Decimal.\")"
   ]
  },
  {
   "cell_type": "code",
   "execution_count": 46,
   "id": "44965405",
   "metadata": {},
   "outputs": [
    {
     "data": {
      "text/plain": [
       "597"
      ]
     },
     "execution_count": 46,
     "metadata": {},
     "output_type": "execute_result"
    }
   ],
   "source": [
    "converter(number)"
   ]
  }
 ],
 "metadata": {
  "kernelspec": {
   "display_name": "Python 3",
   "language": "python",
   "name": "python3"
  },
  "language_info": {
   "codemirror_mode": {
    "name": "ipython",
    "version": 3
   },
   "file_extension": ".py",
   "mimetype": "text/x-python",
   "name": "python",
   "nbconvert_exporter": "python",
   "pygments_lexer": "ipython3",
   "version": "3.8.8"
  }
 },
 "nbformat": 4,
 "nbformat_minor": 5
}
