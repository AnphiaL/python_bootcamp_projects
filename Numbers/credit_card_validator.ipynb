{
 "cells": [
  {
   "cell_type": "markdown",
   "id": "ea8df4b1",
   "metadata": {},
   "source": [
    "# Credit Card Validator "
   ]
  },
  {
   "cell_type": "markdown",
   "id": "7e2fbc91",
   "metadata": {},
   "source": [
    "Takes in a credit card number from a common credit card vendor (Visa, MasterCard, American Express, Discoverer) and validates it to make sure that it is a valid number (look into how credit cards use a checksum)."
   ]
  },
  {
   "cell_type": "code",
   "execution_count": 107,
   "id": "722c8da8",
   "metadata": {},
   "outputs": [],
   "source": [
    "def credit_card_valid(card_num):\n",
    "    \n",
    "    card_num_list = []\n",
    "    new_card_num_list = []\n",
    "    num_sum = 0\n",
    "    new_num = \"\"\n",
    "        \n",
    "    for n in range(0,16):\n",
    "        card_num_list.append(card_num[n])\n",
    "        \n",
    "    for n in range(0,15):    \n",
    "        if n%2 == 0:\n",
    "            num = int(card_num_list[n])*2\n",
    "            if num > 9:\n",
    "                num = num - 9\n",
    "                new_card_num_list.append(num)\n",
    "            elif num <= 9:\n",
    "                new_card_num_list.append(num)\n",
    "                \n",
    "        elif n%2 == 1:\n",
    "            num = int(card_num_list[n])\n",
    "            new_card_num_list.append(num)\n",
    "    \n",
    "    new_card_num_list.append(int(card_num[15]))\n",
    "    \n",
    "    print(new_card_num_list)\n",
    "\n",
    "    for n in range(0,16):\n",
    "        num_sum += int(new_card_num_list[n])\n",
    "\n",
    "    if num_sum%10 == 0 and num_sum//10%2 == 0:\n",
    "        return True\n",
    "    else:\n",
    "        return False"
   ]
  },
  {
   "cell_type": "code",
   "execution_count": 103,
   "id": "dbb4ddd6",
   "metadata": {},
   "outputs": [],
   "source": [
    "def validator(result):\n",
    "    if result == True:\n",
    "        print(\"Congratulations! This credit card is valid\")\n",
    "    else:\n",
    "        print(\"Sorry, this credit card is invalid.\")"
   ]
  },
  {
   "cell_type": "code",
   "execution_count": 76,
   "id": "4a42afc0",
   "metadata": {},
   "outputs": [],
   "source": [
    "def credit_card_input():\n",
    "    \n",
    "    credit_card = input(\"Please enter your 16-digit credit card number with or without space: \")    \n",
    "    credit_card_list = credit_card.split()\n",
    "    credit_card_without_space = \"\"\n",
    "    \n",
    "    for element in credit_card_list:\n",
    "        credit_card_without_space += element\n",
    "            \n",
    "    while credit_card_without_space.isdigit() == False or len(credit_card_without_space) != 16:\n",
    "        \n",
    "        credit_card = input(\"Sorry it is not a credit card number. Please enter your 16-digit credit card number with or without space: \")\n",
    "        credit_card_list = credit_card.split()\n",
    "        credit_card_without_space = \"\"\n",
    "        \n",
    "        for element in credit_card_list:\n",
    "            credit_card_without_space += element\n",
    "      \n",
    "    return credit_card_without_space\n"
   ]
  },
  {
   "cell_type": "code",
   "execution_count": 108,
   "id": "8c6a50c0",
   "metadata": {},
   "outputs": [
    {
     "name": "stdout",
     "output_type": "stream",
     "text": [
      "Please enter your 16-digit credit card number with or without space: c34097ytb087t2n\n",
      "Sorry it is not a credit card number. Please enter your 16-digit credit card number with or without space: sd87987 \n",
      "Sorry it is not a credit card number. Please enter your 16-digit credit card number with or without space: 875 98765 9786\n",
      "Sorry it is not a credit card number. Please enter your 16-digit credit card number with or without space: biiuyfbutbfi iutfbt\n",
      "Sorry it is not a credit card number. Please enter your 16-digit credit card number with or without space: 4000 0000 0000 0002\n",
      "[8, 0, 0, 0, 0, 0, 0, 0, 0, 0, 0, 0, 0, 0, 0, 2]\n",
      "Sorry, this credit card is invalid.\n"
     ]
    }
   ],
   "source": [
    "credit_card = credit_card_input()\n",
    "check_result = credit_card_valid(credit_card)\n",
    "validator_result = validator(check_result)\n",
    "validator_result"
   ]
  }
 ],
 "metadata": {
  "kernelspec": {
   "display_name": "Python 3",
   "language": "python",
   "name": "python3"
  },
  "language_info": {
   "codemirror_mode": {
    "name": "ipython",
    "version": 3
   },
   "file_extension": ".py",
   "mimetype": "text/x-python",
   "name": "python",
   "nbconvert_exporter": "python",
   "pygments_lexer": "ipython3",
   "version": "3.8.8"
  }
 },
 "nbformat": 4,
 "nbformat_minor": 5
}
