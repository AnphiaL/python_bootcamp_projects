{
 "cells": [
  {
   "cell_type": "markdown",
   "id": "5fb2c9ff",
   "metadata": {},
   "source": [
    "# Project 2: Find e to the Nth Digit "
   ]
  },
  {
   "cell_type": "markdown",
   "id": "8868e3be",
   "metadata": {},
   "source": [
    "Just like the previous problem, but with e instead of PI. Enter a number and have the program generate e up to that many decimal places. Keep a limit to how far the program will go."
   ]
  },
  {
   "cell_type": "markdown",
   "id": "f264e14a",
   "metadata": {},
   "source": [
    "Firstly: understand the defination of Euler's number"
   ]
  },
  {
   "cell_type": "markdown",
   "id": "b868675d",
   "metadata": {},
   "source": [
    "$$e = \\lim_{n \\rightarrow \\infty}(1 + \\frac{1}{n})^{2}$$ or $$e = \\lim_{t \\rightarrow \\infty}(1 + t)^{\\frac{1}{t}}$$"
   ]
  },
  {
   "cell_type": "markdown",
   "id": "63e63e51",
   "metadata": {},
   "source": [
    "Secondly: calculate Euler's number"
   ]
  },
  {
   "cell_type": "markdown",
   "id": "9b1966fb",
   "metadata": {},
   "source": [
    "$$e = \\sum_{n=0}^{\\infty}\\frac{1}{n!}$$"
   ]
  },
  {
   "cell_type": "code",
   "execution_count": 10,
   "id": "e04dc4c5",
   "metadata": {},
   "outputs": [
    {
     "name": "stdout",
     "output_type": "stream",
     "text": [
      "Please enter the number that you want generate pi after decimal: 20\n",
      "The result is: 2.71828182845904523536\n",
      "The total time taken to run the program is: 0.002752065658569336\n"
     ]
    }
   ],
   "source": [
    "from decimal import Decimal, getcontext\n",
    "import time\n",
    "\n",
    "getcontext().prec = 1000\n",
    "#set the digit precision for decimal (1000)\n",
    "\n",
    "def find_e_nth_digit(nth):\n",
    "    '''\n",
    "    Enter the number and have the program generate e up to that many decimal places\n",
    "    '''\n",
    "    e = Decimal(0)\n",
    "    n = Decimal(1)\n",
    "    f = Decimal(1)\n",
    "    calculating = True\n",
    "    \n",
    "    while calculating:\n",
    "        e += 1/f\n",
    "        if n == 100:\n",
    "            break\n",
    "        else:\n",
    "            f *= n\n",
    "            n += Decimal(1)\n",
    "            \n",
    "    return round(e,nth)\n",
    "\n",
    "nth = int(input(\"Please enter the number that you want generate pi after decimal: \"))\n",
    "\n",
    "start_time = time.time()\n",
    "result = find_e_nth_digit(nth)\n",
    "end_time = time.time() - start_time\n",
    "print(\"The result is: {}\".format(result) + \"\\n\" + \"The total time taken to run the program is: {}\".format(end_time))"
   ]
  },
  {
   "cell_type": "markdown",
   "id": "7e1b8c48",
   "metadata": {},
   "source": [
    "Notation: Many decimal numbers don’t have exact representations in binary floating-point such as 0.1. When using these numbers in arithmetic operations, you’ll get a result that you would not expect. That's the reason why we need to import decimal module which supports arithmetic."
   ]
  }
 ],
 "metadata": {
  "kernelspec": {
   "display_name": "Python 3",
   "language": "python",
   "name": "python3"
  },
  "language_info": {
   "codemirror_mode": {
    "name": "ipython",
    "version": 3
   },
   "file_extension": ".py",
   "mimetype": "text/x-python",
   "name": "python",
   "nbconvert_exporter": "python",
   "pygments_lexer": "ipython3",
   "version": "3.8.8"
  }
 },
 "nbformat": 4,
 "nbformat_minor": 5
}
