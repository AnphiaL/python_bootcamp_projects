{
 "cells": [
  {
   "cell_type": "markdown",
   "id": "a5dd28eb",
   "metadata": {},
   "source": [
    "# Project 3: Fibonacci Sequence"
   ]
  },
  {
   "cell_type": "markdown",
   "id": "425217bb",
   "metadata": {},
   "source": [
    "Enter a number and have the program generate the Fibonacci sequence to that number or to the Nth number."
   ]
  },
  {
   "cell_type": "code",
   "execution_count": 17,
   "id": "5a3a05d7",
   "metadata": {},
   "outputs": [
    {
     "name": "stdout",
     "output_type": "stream",
     "text": [
      "Please enter a number: 10\n",
      "The Fibonacci sequence to Nth number is: [0, 1, 1, 2, 3, 5, 8, 13, 21, 34, 55]\n"
     ]
    }
   ],
   "source": [
    "import time\n",
    "\n",
    "def fibonacci_sequence(input_num):\n",
    "\n",
    "    fibonacci_list = [0,1]\n",
    "    calculating = True\n",
    "    n1 = 0\n",
    "    n2 = 1\n",
    "    n3 = 0\n",
    "    while calculating:\n",
    "        if n3 == input_num:\n",
    "            return \"The Fibonacci sequence to that number is: {}\".format(fibonacci_list[0:n3+1])\n",
    "            break\n",
    "        elif fibonacci_list.index(n3) == input_num:\n",
    "            return \"The Fibonacci sequence to Nth number is: {}\".format(fibonacci_list)\n",
    "            break\n",
    "        else:\n",
    "            n3 = n1 + n2\n",
    "            n1 = n2\n",
    "            n2 = n3\n",
    "            fibonacci_list.append(n3)\n",
    "        \n",
    "input_num = int(input(\"Please enter a number: \"))\n",
    "\n",
    "start_time = time.time()\n",
    "print(fibonacci_sequence(input_num))\n",
    "end_time = time.time() - start_time\n"
   ]
  }
 ],
 "metadata": {
  "kernelspec": {
   "display_name": "Python 3",
   "language": "python",
   "name": "python3"
  },
  "language_info": {
   "codemirror_mode": {
    "name": "ipython",
    "version": 3
   },
   "file_extension": ".py",
   "mimetype": "text/x-python",
   "name": "python",
   "nbconvert_exporter": "python",
   "pygments_lexer": "ipython3",
   "version": "3.8.8"
  }
 },
 "nbformat": 4,
 "nbformat_minor": 5
}
