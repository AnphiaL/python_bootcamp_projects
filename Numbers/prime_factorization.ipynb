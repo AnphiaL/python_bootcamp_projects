{
 "cells": [
  {
   "cell_type": "markdown",
   "id": "311fa278",
   "metadata": {},
   "source": [
    "# Prime Factorization"
   ]
  },
  {
   "cell_type": "markdown",
   "id": "50b8b1fd",
   "metadata": {},
   "source": [
    "Have the user enter a number and find all Prime Factors (if there are any) and display them."
   ]
  },
  {
   "cell_type": "markdown",
   "id": "8ea1dec6",
   "metadata": {},
   "source": [
    "Notation: Prime factor is the factor of the given number which is a prime number. Factors are the numbers you multiply together to get another number. In simple words, prime factor is finding which prime numbers multiply together to make the original number."
   ]
  },
  {
   "cell_type": "code",
   "execution_count": 14,
   "id": "e73f86b0",
   "metadata": {},
   "outputs": [
    {
     "name": "stdout",
     "output_type": "stream",
     "text": [
      "Please enter a number that you want to calculating prime factor: 20\n",
      "Prime Factors of the number you entered is: {2, 5}\n",
      "The total time taken to run the program is: 0.000247955322265625\n"
     ]
    }
   ],
   "source": [
    "import time \n",
    "\n",
    "def prime_factorization(input_num):\n",
    "    \n",
    "    prime_number_list = []\n",
    "    prime_factor_list = []\n",
    "    \n",
    "    for n in range(2,input_num):\n",
    "        approximate_number = []\n",
    "        for num in range(1,n+1):\n",
    "            if n%num == 0:\n",
    "                approximate_number.append(num)\n",
    "        if approximate_number == [1,n]:\n",
    "            prime_number_list.append(n)\n",
    "            \n",
    "    for n in prime_number_list:\n",
    "        if input_num%n == 0:\n",
    "            prime_factor_list.append(n)\n",
    "    \n",
    "    prime_factor_set = set(prime_factor_list)\n",
    "    return prime_factor_set\n",
    "\n",
    "input_num = int(input(\"Please enter a number that you want to calculating prime factor: \"))\n",
    "\n",
    "start_time = time.time()\n",
    "result = prime_factorization(input_num)\n",
    "end_time = time.time() - start_time\n",
    "\n",
    "print(\"Prime Factors of the number you entered is: {}\".format(result) + \"\\n\" + \"The total time taken to run the program is: {}\".format(end_time))"
   ]
  }
 ],
 "metadata": {
  "kernelspec": {
   "display_name": "Python 3",
   "language": "python",
   "name": "python3"
  },
  "language_info": {
   "codemirror_mode": {
    "name": "ipython",
    "version": 3
   },
   "file_extension": ".py",
   "mimetype": "text/x-python",
   "name": "python",
   "nbconvert_exporter": "python",
   "pygments_lexer": "ipython3",
   "version": "3.8.8"
  }
 },
 "nbformat": 4,
 "nbformat_minor": 5
}
