{
 "cells": [
  {
   "cell_type": "markdown",
   "id": "dcce1910",
   "metadata": {},
   "source": [
    "# Next Prime Number "
   ]
  },
  {
   "cell_type": "markdown",
   "id": "d407654e",
   "metadata": {},
   "source": [
    "Have the program find prime numbers until the user chooses to stop asking for the next one."
   ]
  },
  {
   "cell_type": "code",
   "execution_count": 108,
   "id": "c8737bb3",
   "metadata": {},
   "outputs": [],
   "source": [
    "def calculating_prime_number(n):\n",
    "    \n",
    "    prime_number_list = []\n",
    "    \n",
    "    for number in range(1,n+1):\n",
    "        approximate_number_list = []\n",
    "        for num in range(1,number+1):\n",
    "            if number%num == 0:\n",
    "                approximate_number_list.append(num)\n",
    "        if approximate_number_list == [1,number]:\n",
    "            prime_number_list.append(number)\n",
    "    \n",
    "    return prime_number_list\n",
    "    \n",
    "    \n",
    "\n",
    "def next_prime_number():\n",
    "    \n",
    "    print(\"Welcome to Next Prime Number Calculating! \\n Notation: Y stands for yes and N stands for no.\")\n",
    "    calculating = True\n",
    "    n=-1\n",
    "    \n",
    "    while calculating:\n",
    "        \n",
    "        user_choice = input(\"Do you want to calculate the next prime number? (Enter Y or N)\")\n",
    "        \n",
    "        if user_choice == \"N\":\n",
    "            print(\"End of calculating\")\n",
    "            calculating = False\n",
    "            break\n",
    "            \n",
    "        elif user_choice != \"Y\" and user_choice != \"N\":\n",
    "            print(\"I don't understand. Please enter Y or M.\")\n",
    "            continue\n",
    "            \n",
    "        elif user_choice == \"Y\":\n",
    "            n += 1\n",
    "            print(calculating_prime_number(1000)[n])\n",
    "            # set maximum of the prime number is 997\n",
    "              "
   ]
  },
  {
   "cell_type": "code",
   "execution_count": 109,
   "id": "419ec93b",
   "metadata": {},
   "outputs": [
    {
     "name": "stdout",
     "output_type": "stream",
     "text": [
      "Welcome to Next Prime Number Calculating! \n",
      " Notation: Y stands for yes and N stands for no.\n",
      "Do you want to calculate the next prime number? (Enter Y or N)test\n",
      "I don't understand. Please enter Y or M.\n",
      "Do you want to calculate the next prime number? (Enter Y or N)n\n",
      "I don't understand. Please enter Y or M.\n",
      "Do you want to calculate the next prime number? (Enter Y or N)y\n",
      "I don't understand. Please enter Y or M.\n",
      "Do you want to calculate the next prime number? (Enter Y or N)Y\n",
      "2\n",
      "Do you want to calculate the next prime number? (Enter Y or N)Y\n",
      "3\n",
      "Do you want to calculate the next prime number? (Enter Y or N)Y\n",
      "5\n",
      "Do you want to calculate the next prime number? (Enter Y or N)N\n",
      "End of calculating\n"
     ]
    }
   ],
   "source": [
    "next_prime_number()"
   ]
  }
 ],
 "metadata": {
  "kernelspec": {
   "display_name": "Python 3",
   "language": "python",
   "name": "python3"
  },
  "language_info": {
   "codemirror_mode": {
    "name": "ipython",
    "version": 3
   },
   "file_extension": ".py",
   "mimetype": "text/x-python",
   "name": "python",
   "nbconvert_exporter": "python",
   "pygments_lexer": "ipython3",
   "version": "3.8.8"
  }
 },
 "nbformat": 4,
 "nbformat_minor": 5
}
