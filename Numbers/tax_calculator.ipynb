{
 "cells": [
  {
   "cell_type": "markdown",
   "id": "65e09780",
   "metadata": {},
   "source": [
    "# Tax Calculator "
   ]
  },
  {
   "cell_type": "markdown",
   "id": "de4be379",
   "metadata": {},
   "source": [
    "Asks the user to enter a cost and either a country or state tax. It then returns the tax plus the total cost with tax."
   ]
  },
  {
   "cell_type": "markdown",
   "id": "aa3781d4",
   "metadata": {},
   "source": [
    "<table>\n",
    "<tr>\n",
    "    <th>Tax Bracket</th> \n",
    "    <th>Single</th>\n",
    "    <th>Married Filling Jointly</th>\n",
    "    <th>Married Filling Separately</th>\n",
    "    <th>Head of Household</th>\n",
    "</tr>\n",
    "\n",
    "<tr>\n",
    "    <td>10%</td>\n",
    "    <td>Up to &#36;9875</td> \n",
    "    <td>Up to &#36;19750</td>\n",
    "    <td>Up to &#36;9875</td> \n",
    "    <td>Up to &#36;14100</td>\n",
    "</tr>\n",
    "\n",
    "<tr>\n",
    "    <td>12%</td>\n",
    "    <td>&#36;9876-40125</td> \n",
    "    <td>&#36;19751-80250</td>\n",
    "    <td>&#36;9876-40125</td> \n",
    "    <td>&#36;14101-53700</td>\n",
    "</tr>\n",
    "\n",
    "<tr>\n",
    "    <td>22%</td>\n",
    "    <td>&#36;40126-85525</td> \n",
    "    <td>&#36;80251-171050</td>\n",
    "    <td>&#36;40126-85525</td> \n",
    "    <td>&#36;53701-85500</td>\n",
    "</tr>\n",
    "\n",
    "<tr>\n",
    "    <td>24%</td>\n",
    "    <td>&#36;85526-163300</td> \n",
    "    <td>&#36;171051-326600</td>\n",
    "    <td>&#36;85526-163300</td> \n",
    "    <td>&#36;85501-163300</td>\n",
    "</tr>\n",
    "\n",
    "<tr>\n",
    "    <td>32%</td>\n",
    "    <td>&#36;163301-207350</td> \n",
    "    <td>&#36;326601-414700</td>\n",
    "    <td>&#36;163301-207350</td> \n",
    "    <td>&#36;163301-207350</td>\n",
    "</tr>\n",
    "\n",
    "<tr>\n",
    "    <td>35%</td>\n",
    "    <td>&#36;207351-518400</td> \n",
    "    <td>&#36;414701-622050</td>\n",
    "    <td>&#36;207351-311025</td> \n",
    "    <td>&#36;207351-518400</td>\n",
    "</tr>\n",
    "\n",
    "<tr>\n",
    "    <td>37%</td>\n",
    "    <td>&#36;518401 or more</td> \n",
    "    <td>&#36;622051 or more</td>\n",
    "    <td>&#36;311026 or more</td> \n",
    "    <td>&#36;518401 or more</td>\n",
    "</tr>\n",
    "</table>"
   ]
  },
  {
   "cell_type": "code",
   "execution_count": 20,
   "id": "864209f3",
   "metadata": {},
   "outputs": [],
   "source": [
    "from ipywidgets import widgets, interact"
   ]
  },
  {
   "cell_type": "code",
   "execution_count": 29,
   "id": "cae50c79",
   "metadata": {},
   "outputs": [],
   "source": [
    "def tax_calculation(total_income,filling_status,location,year):\n",
    "    \n",
    "    result = 0\n",
    "    \n",
    "    if filling_status == 'Single':\n",
    "        if total_income <= 9875:\n",
    "            result = total_income*0.10\n",
    "        elif 9876 <= total_income <= 40125:\n",
    "            result = 9875*0.10 + (total_income-9875)*0.12 \n",
    "        elif 40126 <= total_income <= 85525:\n",
    "            result = 9875*0.10 + (40125-9876)*0.12 + (total_income-40125)*0.22\n",
    "        elif 85526 <= total_income <= 163300:\n",
    "            result = 9875*0.10 + (40125-9876)*0.12 + (85525-40126)*0.22 + (total_income-85525)*0.24\n",
    "        elif 163301 <= total_income <= 207350:\n",
    "            result = 9875*0.10 + (40125-9876)*0.12 + (85525-40126)*0.22 + (16330-85526)*0.24 + (total_income-16330)*0.32\n",
    "        elif 207351 <= total_income <= 518400:\n",
    "            result = 9875*0.10 + (40125-9876)*0.12 + (85525-40126)*0.22 + (16330-85526)*0.24 + (207350-16331)*0.32 + (total_income-207350)*0.35\n",
    "        elif 518401 <= total_income:\n",
    "            result = 9875*0.10 + (40125-9876)*0.12 + (85525-40126)*0.22 + (16330-85526)*0.24 + (207350-16331)*0.32 + (518400-207350)*0.35 + (total_income-518400)*0.37\n",
    "    \n",
    "    elif filling_status == 'Married Filling Jointly':\n",
    "        if total_income <= 19750:\n",
    "            result = total_income*0.10\n",
    "        elif 19751 <= total_income <= 80250:\n",
    "            result = 19751*0.10 + (total_income-19751)*0.12 \n",
    "        elif 80251 <= total_income <= 171050:\n",
    "            result = 19751*0.10 + (80250-19751)*0.12 + (total_income-80251)*0.22\n",
    "        elif 171051 <= total_income <= 326600:\n",
    "            result = 19751*0.10 + (80250-19751)*0.12 + (171050-80251)*0.22 + (total_income-171051)*0.24\n",
    "        elif 326601 <= total_income <= 414700:\n",
    "            result = 19751*0.10 + (80250-19751)*0.12 + (171050-80251)*0.22 + (326601-171051)*0.24 + (total_income-326601)*0.32\n",
    "        elif 414701 <= total_income <= 622050:\n",
    "            result = 19751*0.10 + (80250-19751)*0.12 + (171050-80251)*0.22 + (326600-717051)*0.24 + (414700-326601)*0.32 + (total_income-414701)*0.35\n",
    "        elif 622051 <= total_income:\n",
    "            result = 19751*0.10 + (80250-19751)*0.12 + (171050-80251)*0.22 + (326600-717051)*0.24 + (414700-326601)*0.32 + (622050-414701)*0.35 + (total_income-622051)*0.37\n",
    "    \n",
    "    elif filling_status == 'Married Filling Separately':\n",
    "        #too tired to convert the formula\n",
    "        result = \"unkown\"\n",
    "    \n",
    "    elif filling_status == 'Head of Household':\n",
    "        #too tired to convert the formula\n",
    "        result = \"unkown\"\n",
    "    \n",
    "    else:\n",
    "        print(\"Please choose your filling status firstly.\")\n",
    "        \n",
    "    print(\"Your {} Federal Income Tax Plus FICA : ${}\".format(year, result))\n",
    "    "
   ]
  },
  {
   "cell_type": "code",
   "execution_count": 44,
   "id": "387261a6",
   "metadata": {},
   "outputs": [],
   "source": [
    "style = {\"description_width\": \"initial\"}\n",
    "\n",
    "total_income = widgets.BoundedIntText(\n",
    "    value=5000,\n",
    "    min=0,\n",
    "    max=1000000,\n",
    "    step=1,\n",
    "    description='Your Total Income (dollars):',\n",
    "    disabled=False,\n",
    "    style = style,\n",
    ")\n",
    "\n",
    "filling_status = widgets.Dropdown(\n",
    "    options=[\"Single\",'Married Filling Jointly', \n",
    "             'Married Filling Separately', 'Head of Household',\n",
    "             \"Choose Your Location\"],\n",
    "    value=\"Choose Your Location\",\n",
    "    description='Your Filling Status:',\n",
    "    disabled=False,\n",
    "    style = style,\n",
    ")\n",
    "\n",
    "location = widgets.Dropdown(\n",
    "    options=[\"Washington\",'Oregon', \"California\", \"Nevada\", \"Montana\"\n",
    "             'Texas', 'Illinois', 'Maryland', 'Florida', 'South California',\n",
    "             \"Choose Your Location\"],\n",
    "    value=\"Choose Your Location\",\n",
    "    description='Your Location:',\n",
    "    disabled=False,\n",
    "    style = style,\n",
    ")\n",
    "\n",
    "year = widgets.BoundedIntText(\n",
    "    value=2022,\n",
    "    min=2000,\n",
    "    max=2022,\n",
    "    step=1,\n",
    "    description='Year:',\n",
    "    disabled=False,\n",
    "    style = style,\n",
    ")"
   ]
  },
  {
   "cell_type": "code",
   "execution_count": 46,
   "id": "632b212b",
   "metadata": {},
   "outputs": [
    {
     "data": {
      "application/vnd.jupyter.widget-view+json": {
       "model_id": "a8a512bb8a864c569c21afdb7fa4d3d8",
       "version_major": 2,
       "version_minor": 0
      },
      "text/plain": [
       "Tab(children=(BoundedIntText(value=5000, description='Your Total Income (dollars):', max=1000000, style=Descri…"
      ]
     },
     "metadata": {},
     "output_type": "display_data"
    },
    {
     "data": {
      "application/vnd.jupyter.widget-view+json": {
       "model_id": "41149533d0704a47bcb08831125d3f3a",
       "version_major": 2,
       "version_minor": 0
      },
      "text/plain": [
       "Output()"
      ]
     },
     "metadata": {},
     "output_type": "display_data"
    }
   ],
   "source": [
    "tab = widgets.Tab([total_income, filling_status, location, year])\n",
    "tab.children = [total_income, filling_status, location, year]\n",
    "tab.set_title(0,\"Total Income\")\n",
    "tab.set_title(1,\"Filling Status\")\n",
    "tab.set_title(2,\"Location\")\n",
    "tab.set_title(3,\"Year\")\n",
    "\n",
    "out = widgets.interactive_output(tax_calculation, {\"total_income\": total_income, \n",
    "                                                   \"filling_status\": filling_status, \n",
    "                                                   \"location\":location,\n",
    "                                                   \"year\":year})\n",
    "\n",
    "display(tab, out)"
   ]
  }
 ],
 "metadata": {
  "kernelspec": {
   "display_name": "Python 3",
   "language": "python",
   "name": "python3"
  },
  "language_info": {
   "codemirror_mode": {
    "name": "ipython",
    "version": 3
   },
   "file_extension": ".py",
   "mimetype": "text/x-python",
   "name": "python",
   "nbconvert_exporter": "python",
   "pygments_lexer": "ipython3",
   "version": "3.8.8"
  }
 },
 "nbformat": 4,
 "nbformat_minor": 5
}
