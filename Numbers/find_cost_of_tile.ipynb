{
 "cells": [
  {
   "cell_type": "markdown",
   "id": "c3e713ff",
   "metadata": {},
   "source": [
    "# Find Cost of Tile to Cover W x H Floor "
   ]
  },
  {
   "cell_type": "markdown",
   "id": "8c1e468a",
   "metadata": {},
   "source": [
    "Calculate the total cost of tile it would take to cover a floor plan of width and height, using a cost entered by the user."
   ]
  },
  {
   "cell_type": "code",
   "execution_count": 35,
   "id": "120a8392",
   "metadata": {},
   "outputs": [],
   "source": [
    "from decimal import Decimal"
   ]
  },
  {
   "cell_type": "code",
   "execution_count": 82,
   "id": "9b1f24f4",
   "metadata": {},
   "outputs": [],
   "source": [
    "def input_parameters():\n",
    "    cost_per_tile = Decimal(input(\"Please enter the cost of per tile (dollar/square meter): \"))\n",
    "    \n",
    "    size_per_tile = Decimal(input(\"Please enter the size of per tile (square meter): \"))\n",
    "   \n",
    "    height = Decimal(input(\"Please enter the height of floor (meter): \"))\n",
    "   \n",
    "    width = Decimal(input(\"Please enter the width of floor (meter): \"))\n",
    "    \n",
    "    return [cost_per_tile,size_per_tile,height,width]"
   ]
  },
  {
   "cell_type": "code",
   "execution_count": 80,
   "id": "25257440",
   "metadata": {},
   "outputs": [],
   "source": [
    "def cost_of_tile(input_nums):\n",
    "    tile_cost = input_nums[0]\n",
    "    tile_size = input_nums[1]\n",
    "    floor_height = input_nums[2]\n",
    "    floor_width = input_nums[3]\n",
    "    total_cost = floor_height*floor_width/tile_size*tile_cost\n",
    "    return total_cost"
   ]
  },
  {
   "cell_type": "code",
   "execution_count": 83,
   "id": "85f51cf7",
   "metadata": {},
   "outputs": [
    {
     "name": "stdout",
     "output_type": "stream",
     "text": [
      "Please enter the cost of per tile (dollar/square meter): 1\n",
      "Please enter the size of per tile (square meter): 2\n",
      "Please enter the height of floor (meter): 3\n",
      "Please enter the width of floor (meter): 4\n"
     ]
    },
    {
     "data": {
      "text/plain": [
       "Decimal('6')"
      ]
     },
     "execution_count": 83,
     "metadata": {},
     "output_type": "execute_result"
    }
   ],
   "source": [
    "input_nums = input_parameters()\n",
    "cost_of_tile(input_nums)"
   ]
  }
 ],
 "metadata": {
  "kernelspec": {
   "display_name": "Python 3",
   "language": "python",
   "name": "python3"
  },
  "language_info": {
   "codemirror_mode": {
    "name": "ipython",
    "version": 3
   },
   "file_extension": ".py",
   "mimetype": "text/x-python",
   "name": "python",
   "nbconvert_exporter": "python",
   "pygments_lexer": "ipython3",
   "version": "3.8.8"
  }
 },
 "nbformat": 4,
 "nbformat_minor": 5
}
