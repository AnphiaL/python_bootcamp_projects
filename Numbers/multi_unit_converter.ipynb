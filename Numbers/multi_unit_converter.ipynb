{
 "cells": [
  {
   "cell_type": "markdown",
   "id": "d8486f7c",
   "metadata": {},
   "source": [
    "# Unit Converter (temp, currency, volume, mass and more)"
   ]
  },
  {
   "cell_type": "markdown",
   "id": "bd3ae43b",
   "metadata": {},
   "source": [
    "Converts various units between one another. The user enters the type of unit being entered, the type of unit they want to convert to and then the value. The program will then make the conversion."
   ]
  },
  {
   "cell_type": "code",
   "execution_count": 89,
   "id": "53d84a26",
   "metadata": {},
   "outputs": [],
   "source": [
    "from ipywidgets import widgets\n",
    "from ipywidgets import interact, interactive\n",
    "from decimal import Decimal\n",
    "import requests\n",
    "from forex_python.converter import CurrencyRates"
   ]
  },
  {
   "cell_type": "code",
   "execution_count": 114,
   "id": "ee2438b0",
   "metadata": {},
   "outputs": [],
   "source": [
    "def temperature_converter(number,unit_input,unit_output):\n",
    "    if unit_input == \"Celsius\":\n",
    "        if unit_output == \"Fahrenheit\":\n",
    "            convertered_temperature = float(number)*1.8 + 32\n",
    "            return convertered_temperature\n",
    "        elif unit_output == \"Kelvin\":\n",
    "            convertered_temperature = float(number) + 273.15\n",
    "            return convertered_temperature\n",
    "        else:\n",
    "            convertered_temperature = float(number)\n",
    "            return convertered_temperature\n",
    "            \n",
    "    elif unit_input == \"Fahrenheit\":\n",
    "        if unit_output == \"Celsius\":\n",
    "            convertered_temperature = (float(number) - 32) / 1.8\n",
    "            return convertered_temperature\n",
    "        elif unit_output == \"Kelvin\":\n",
    "            convertered_temperature = (float(number) - 32) / 1.8 + 273\n",
    "            return convertered_temperature\n",
    "        else:\n",
    "            convertered_temperature = float(number) \n",
    "            return convertered_temperature\n",
    "\n",
    "    elif unit_input == \"Kelvin\":\n",
    "        if unit_output == \"Fahrenheit\":\n",
    "            convertered_temperature = (float(number)-273)*1.8 + 32\n",
    "            return convertered_temperature\n",
    "        elif unit_output == \"Celsius\":\n",
    "            convertered_temperature = float(number) - 273.15\n",
    "            return convertered_temperature \n",
    "        else:\n",
    "            convertered_temperature = float(number) \n",
    "            return convertered_temperature"
   ]
  },
  {
   "cell_type": "code",
   "execution_count": 124,
   "id": "f95a322e",
   "metadata": {},
   "outputs": [],
   "source": [
    "def volume_converter(number,unit_input,unit_output):\n",
    "    SI = {\"Cubic Metre\":1.0,\"Barrel\":0.16,\"Cubic Foot\":0.0283168,\n",
    "          \"Cubic Decimetre\":0.001,\"Litre\":0.001,\"Gallon\":0.00378541,\n",
    "          \"Pint\":0.000473176,\"Cubic Inch\":1.63871e-5,\"Cubic Centimetre\":0.000001}\n",
    "    convertered_length = float(number)*SI[unit_input]/SI[unit_output]\n",
    "    return convertered_length"
   ]
  },
  {
   "cell_type": "code",
   "execution_count": 125,
   "id": "157cc47e",
   "metadata": {},
   "outputs": [],
   "source": [
    "def mass_converter(number,unit_input,unit_output):\n",
    "    SI = {\"Ounce\":28.3495,\"Pound\":453.592,\"Hundredweight (short)\":45359.237,\n",
    "          \"Hundredweight (long)\":50802.34544,\"Ton (Short)\":907185,\n",
    "          \"Ton (Long)\":1016046.9088, \"Gram\":1.0, \"Kilogram\":1000.0, \"Metric Ton\":1000000}\n",
    "    convertered_length = float(number)*SI[unit_input]/SI[unit_output]\n",
    "    return convertered_length"
   ]
  },
  {
   "cell_type": "code",
   "execution_count": 126,
   "id": "d111d600",
   "metadata": {},
   "outputs": [],
   "source": [
    "def length_converter(number,unit_input,unit_output):\n",
    "    SI = {'mm':0.001, 'cm':0.01, 'm':1.0, 'km':1000.,\n",
    "         'Inch':0.0254,'Foot':0.3048, 'Yard':0.9144,'Rod':5.0292,\n",
    "          'Chain':20.1168,'Furlong':201.168,\"Mile\":1609.4}\n",
    "    convertered_length = float(number)*SI[unit_input]/SI[unit_output]\n",
    "    return convertered_length"
   ]
  },
  {
   "cell_type": "code",
   "execution_count": 127,
   "id": "1bb6cf9a",
   "metadata": {},
   "outputs": [
    {
     "data": {
      "application/vnd.jupyter.widget-view+json": {
       "model_id": "feedbf9c1fad4e4fa9ff0223e93fb63f",
       "version_major": 2,
       "version_minor": 0
      },
      "text/plain": [
       "Accordion(children=(Text(value='0', description='Number:', placeholder='Type something'), Dropdown(description…"
      ]
     },
     "metadata": {},
     "output_type": "display_data"
    },
    {
     "data": {
      "application/vnd.jupyter.widget-view+json": {
       "model_id": "4fc17cb9655149a3bec85a31fbdf7090",
       "version_major": 2,
       "version_minor": 0
      },
      "text/plain": [
       "Output()"
      ]
     },
     "metadata": {},
     "output_type": "display_data"
    }
   ],
   "source": [
    "Number = widgets.Text(\n",
    "    value='0',\n",
    "    placeholder='Type something',\n",
    "    description='Number:',\n",
    "    disabled=False)\n",
    "\n",
    "Unit_Class = widgets.Dropdown(\n",
    "    options=[\"Choose A Unit Class First\",'Temperature', 'Currency', 'Volume', \"Mass\", \"Length\"],\n",
    "    value=\"Choose A Unit Class First\",\n",
    "    description='Unit Class:',\n",
    "    disabled=False)\n",
    "\n",
    "\n",
    "Unit_Input = widgets.Dropdown(\n",
    "    options=['Choose A Unit Class First'],\n",
    "    value='Choose A Unit Class First',\n",
    "    description='Unit Input:',\n",
    "    disabled=False)\n",
    "\n",
    "Unit_Output = widgets.Dropdown(\n",
    "    options=['Choose A Unit Class First'],\n",
    "    value='Choose A Unit Class First',\n",
    "    description='Unit Output',\n",
    "    disabled=False)\n",
    "\n",
    "def update_Unit_Class(*args):\n",
    "    if Unit_Class.value == \"Temperature\":\n",
    "        Unit_Input.options = [\"Kelvin\", \"Fahrenheit\", \"Celsius\"]\n",
    "        Unit_Output.options = [\"Kelvin\", \"Fahrenheit\", \"Celsius\"]\n",
    "        \n",
    "    elif Unit_Class.value == \"Currency\":\n",
    "        Unit_Input.options = [\"USD\",\"EUR\",\"JPY\",\"GBP\",\"AUD\",\"CAD\",\n",
    "                        \"CHF\",\"CNY\",\"HKD\",\"NZD\",\"RUB\",\"SEK\",\n",
    "                        \"KRW\",\"SGD\",\"NOK\",\"TWD\",\"DKK\",\"PLN\"]\n",
    "        Unit_Output.options = [\"USD\",\"EUR\",\"JPY\",\"GBP\",\"AUD\",\"CAD\",\n",
    "                        \"CHF\",\"CNY\",\"HKD\",\"NZD\",\"RUB\",\"SEK\",\n",
    "                        \"KRW\",\"SGD\",\"NOK\",\"TWD\",\"DKK\",\"PLN\"]\n",
    "    \n",
    "    elif Unit_Class.value == \"Volume\":\n",
    "        Unit_Input.options = [\"Cubic Metre\",\"Barrel\",\"Cubic Foot\",\n",
    "                        \"Cubic Decimetre\",\"Litre\",\"Gallon\",\n",
    "                        \"Pint\",\"Cubic Inch\",\"Cubic Centimetre\"]\n",
    "        Unit_Output.options = [\"Cubic Metre\",\"Barrel\",\"Cubic Foot\",\n",
    "                        \"Cubic Decimetre\",\"Litre\",\"Gallon\",\n",
    "                        \"Pint\",\"Cubic Inch\",\"Cubic Centimetre\"]\n",
    "    \n",
    "    elif Unit_Class.value == \"Mass\":\n",
    "        Unit_Input.options = [\"Ounce\",\"Pound\",\"Hundredweight (short)\",\n",
    "                       \"Hundredweight (long)\",\"Ton (Short)\",\n",
    "                       \"Ton (Long)\", \"Gram\", \"Kilogram\", \"Metric Ton\"]\n",
    "        Unit_Output.options = [\"Ounce\",\"Pound\",\"Hundredweight (short)\",\n",
    "                       \"Hundredweight (long)\",\"Ton (Short)\",\n",
    "                       \"Ton (Long)\", \"Gram\", \"Kilogram\", \"Metric Ton\"]\n",
    "    \n",
    "    elif Unit_Class.value == \"Length\":\n",
    "        Unit_Input.options = ['mm','cm','m','km',\"Foot\",\"Yard\",\n",
    "                              \"Rod\",\"Chain\",\"Furlong\",\"Mile\"]\n",
    "        Unit_Output.options = ['mm','cm','m','km',\"Foot\",\"Yard\",\n",
    "                               \"Rod\",\"Chain\",\"Furlong\",\"Mile\"]\n",
    "\n",
    "Unit_Class.observe(update_Unit_Class, 'value')\n",
    "#Arguments that are dependent on each other\n",
    "\n",
    "def converter(Number,Unit_Class,Unit_Input,Unit_Output):\n",
    "    if Unit_Class == \"Temperature\":\n",
    "        Convertered_Number = temperature_converter(Number,Unit_Input,Unit_Output)\n",
    "        print(\"{} {} equals to {} {}\".format(Number, Unit_Input, Convertered_Number, Unit_Output))\n",
    "        \n",
    "    elif Unit_Class == \"Currency\":\n",
    "        c = CurrencyRates()\n",
    "        rate = c.get_rate(Unit_Input, Unit_Output)\n",
    "        Convertered_Number = float(Number) * rate\n",
    "        print(\"{} {} equals to {} {}\".format(Number, Unit_Input, Convertered_Number, Unit_Output))\n",
    "    \n",
    "    elif Unit_Class == \"Volume\":\n",
    "        Convertered_Number = volume_converter(Number,Unit_Input,Unit_Output)\n",
    "        print(\"{} {} equals to {} {}\".format(Number, Unit_Input, Convertered_Number, Unit_Output))\n",
    "    \n",
    "    elif Unit_Class == \"Mass\":\n",
    "        Convertered_Number = mass_converter(Number,Unit_Input,Unit_Output)\n",
    "        print(\"{} {} equals to {} {}\".format(Number, Unit_Input, Convertered_Number, Unit_Output))\n",
    "\n",
    "    elif Unit_Class == \"Length\":\n",
    "        Convertered_Number = length_converter(Number,Unit_Input,Unit_Output)\n",
    "        print(\"{} {} equals to {} {}\".format(Number, Unit_Input, Convertered_Number, Unit_Output))\n",
    "    \n",
    "\n",
    "#ui = widgets.HBox([Number, Unit_Class, Unit_Input, Unit_Output]) will show a long row\n",
    "accordion = widgets.Accordion(children=[Number, Unit_Class, Unit_Input, Unit_Output])\n",
    "accordion.set_title(0, 'Number')\n",
    "accordion.set_title(1, 'Unit Class')\n",
    "accordion.set_title(2, 'Unit Input')\n",
    "accordion.set_title(3, 'Unit Output')\n",
    "\n",
    "\n",
    "out = widgets.interactive_output(converter, {'Number': Number, 'Unit_Class': Unit_Class, \n",
    "                                     'Unit_Input': Unit_Input, \"Unit_Output\":Unit_Output})\n",
    "\n",
    "display(accordion, out)\n",
    "#or use display(ui, out)\n",
    "\n"
   ]
  }
 ],
 "metadata": {
  "kernelspec": {
   "display_name": "Python 3",
   "language": "python",
   "name": "python3"
  },
  "language_info": {
   "codemirror_mode": {
    "name": "ipython",
    "version": 3
   },
   "file_extension": ".py",
   "mimetype": "text/x-python",
   "name": "python",
   "nbconvert_exporter": "python",
   "pygments_lexer": "ipython3",
   "version": "3.8.8"
  }
 },
 "nbformat": 4,
 "nbformat_minor": 5
}
