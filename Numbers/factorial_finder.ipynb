{
 "cells": [
  {
   "cell_type": "markdown",
   "id": "181bb02c",
   "metadata": {},
   "source": [
    "# Factorial Finder"
   ]
  },
  {
   "cell_type": "markdown",
   "id": "e37e91e3",
   "metadata": {},
   "source": [
    "The Factorial of a positive integer, n, is defined as the product of the sequence n, n-1, n-2, ...1 and the factorial of zero, 0, is defined as being 1. Solve this using both loops and recursion."
   ]
  },
  {
   "cell_type": "code",
   "execution_count": 20,
   "id": "0e176e9e",
   "metadata": {},
   "outputs": [],
   "source": [
    "from ipywidgets import widgets"
   ]
  },
  {
   "cell_type": "code",
   "execution_count": 24,
   "id": "9a7018ad",
   "metadata": {},
   "outputs": [],
   "source": [
    "def factorial_finder(number):\n",
    "    \n",
    "    factorial = 1\n",
    "    \n",
    "    if number == 0:\n",
    "        print(\"The Factorial of the integer is: 1\")\n",
    "        \n",
    "    else:\n",
    "        for num in range(1,number+1):\n",
    "            factorial *= num\n",
    "        print(\"The Factorial of the integer is: {}\".format(factorial))"
   ]
  },
  {
   "cell_type": "code",
   "execution_count": 27,
   "id": "ea876221",
   "metadata": {},
   "outputs": [],
   "source": [
    "style = {'description_width':'initial'}\n",
    "\n",
    "number = widgets.BoundedIntText(\n",
    "    value=10,\n",
    "    min=0,\n",
    "    max=1000000,\n",
    "    step=1,\n",
    "    description='Input an integer:',\n",
    "    disabled=False,\n",
    "    style = style,\n",
    ")"
   ]
  },
  {
   "cell_type": "code",
   "execution_count": 28,
   "id": "0602a9e9",
   "metadata": {},
   "outputs": [
    {
     "data": {
      "application/vnd.jupyter.widget-view+json": {
       "model_id": "8e4b6bf0e07d4101821f9823795dba48",
       "version_major": 2,
       "version_minor": 0
      },
      "text/plain": [
       "Tab(children=(BoundedIntText(value=10, description='Input an integer:', max=1000000, style=DescriptionStyle(de…"
      ]
     },
     "metadata": {},
     "output_type": "display_data"
    },
    {
     "data": {
      "application/vnd.jupyter.widget-view+json": {
       "model_id": "f4b77a0161ad493a96ad491e9c8dd76e",
       "version_major": 2,
       "version_minor": 0
      },
      "text/plain": [
       "Output()"
      ]
     },
     "metadata": {},
     "output_type": "display_data"
    }
   ],
   "source": [
    "tab = widgets.Tab([number])\n",
    "tab.children = [number]\n",
    "tab.set_title(0,\"Factorial Finder\")\n",
    "\n",
    "out = widgets.interactive_output(factorial_finder, {\"number\": number})\n",
    "\n",
    "display(tab, out)"
   ]
  }
 ],
 "metadata": {
  "kernelspec": {
   "display_name": "Python 3",
   "language": "python",
   "name": "python3"
  },
  "language_info": {
   "codemirror_mode": {
    "name": "ipython",
    "version": 3
   },
   "file_extension": ".py",
   "mimetype": "text/x-python",
   "name": "python",
   "nbconvert_exporter": "python",
   "pygments_lexer": "ipython3",
   "version": "3.8.8"
  }
 },
 "nbformat": 4,
 "nbformat_minor": 5
}
