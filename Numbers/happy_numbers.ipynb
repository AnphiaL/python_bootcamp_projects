{
 "cells": [
  {
   "cell_type": "markdown",
   "id": "6bc60d35",
   "metadata": {},
   "source": [
    "# Happy Numbers"
   ]
  },
  {
   "cell_type": "markdown",
   "id": "80eeb0aa",
   "metadata": {},
   "source": [
    "A happy number is defined by the following process. Starting with any positive integer, replace the number by the sum of the squares of its digits, and repeat the process until the number equals 1 (where it will stay), or it loops endlessly in a cycle which does not include 1. Those numbers for which this process ends in 1 are happy numbers, while those that do not end in 1 are unhappy numbers. Display an example of your output here. Find first 8 happy numbers."
   ]
  },
  {
   "cell_type": "code",
   "execution_count": null,
   "id": "6d18f7d7",
   "metadata": {},
   "outputs": [],
   "source": [
    "from ipywidgets import widgets, interactive, interact"
   ]
  },
  {
   "cell_type": "code",
   "execution_count": null,
   "id": "38b75e7b",
   "metadata": {},
   "outputs": [],
   "source": [
    "def happy_numbers(number_range):\n",
    "\n",
    "    lower_limit = number_range[0]\n",
    "    upper_limit = number_range[1]\n",
    "    happy_list = []\n",
    "\n",
    "    for num in range(lower_limit, upper_limit+1):\n",
    "        cycle = 0\n",
    "        num_rotate = num\n",
    "\n",
    "        while cycle <= 100:\n",
    "            digit_square_sum = 0\n",
    "            for index in range(0,len(str(num_rotate))):\n",
    "                digit_square_sum += int(str(num_rotate)[index])**2\n",
    "            num_rotate = digit_square_sum\n",
    "            if num_rotate == 1:\n",
    "                happy_list.append(num)\n",
    "                break\n",
    "            else:\n",
    "                cycle += 1\n",
    "\n",
    "    print(\"Happy numbers in your selected range are: \")\n",
    "\n",
    "    for element in happy_list:\n",
    "        print(element)"
   ]
  },
  {
   "cell_type": "code",
   "execution_count": null,
   "id": "ec3367f4",
   "metadata": {},
   "outputs": [],
   "source": [
    "style = {'description_width':'initial'}\n",
    "\n",
    "number_range = widgets.IntRangeSlider(\n",
    "    value=[0, 20],\n",
    "    min=0,\n",
    "    max=800,\n",
    "    step=1,\n",
    "    description='Please select a number range:',\n",
    "    disabled=False,\n",
    "    continuous_update=False,\n",
    "    orientation='horizontal',\n",
    "    readout=True,\n",
    "    readout_format='d',\n",
    "    style=style\n",
    ")"
   ]
  },
  {
   "cell_type": "code",
   "execution_count": null,
   "id": "381a94c5",
   "metadata": {},
   "outputs": [],
   "source": [
    "style = {'description_width':'initial'}\n",
    "interact(happy_numbers, \n",
    "         number_range=widgets.IntRangeSlider(min=0, \n",
    "                                             max=800, \n",
    "                                             step=1, \n",
    "                                             value=[0, 20],\n",
    "                                             description='Please select a number range:',\n",
    "                                             disabled=False,\n",
    "                                             continuous_update=False,\n",
    "                                             orientation='horizontal',\n",
    "                                             readout=True,\n",
    "                                             readout_format='d',\n",
    "                                             style=style\n",
    "                                             ))\n"
   ]
  }
 ],
 "metadata": {
  "kernelspec": {
   "display_name": "Python 3",
   "language": "python",
   "name": "python3"
  }
 },
 "nbformat": 4,
 "nbformat_minor": 5
}
