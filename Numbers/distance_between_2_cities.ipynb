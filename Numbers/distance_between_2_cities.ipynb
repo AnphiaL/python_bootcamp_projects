{
 "cells": [
  {
   "cell_type": "markdown",
   "id": "bfaed10d",
   "metadata": {},
   "source": [
    "# Distance Between Two Cities "
   ]
  },
  {
   "cell_type": "markdown",
   "id": "0ce0ad2a",
   "metadata": {},
   "source": [
    "Calculates the distance between two cities and allows the user to specify a unit of distance. This program may require finding coordinates for the cities like latitude and longitude."
   ]
  },
  {
   "cell_type": "code",
   "execution_count": 3,
   "id": "dc2e6af1",
   "metadata": {},
   "outputs": [],
   "source": [
    "import pandas as pd\n",
    "import numpy as np\n",
    "import haversine as hs\n",
    "import folium \n",
    "import ipywidgets as widgets\n",
    "from ipywidgets import widgets, interact, interactive"
   ]
  },
  {
   "cell_type": "code",
   "execution_count": 4,
   "id": "06a1091c",
   "metadata": {},
   "outputs": [],
   "source": [
    "def map_visualization(Location_lat, Location_lon, Destination_lat, Destination_lon, Zoom):\n",
    "    \n",
    "    # Create a Map instance\n",
    "    show_map = folium.Map(location = [(Location_lat+Destination_lat)/2,\n",
    "                                    (Location_lon+Destination_lon)/2],\n",
    "                          zoom_start = Zoom, \n",
    "                          tiles='OpenStreetMap')\n",
    "    # Add marker\n",
    "    folium.Marker(\n",
    "            location = [Location_lat,Location_lon],\n",
    "            radius =5,\n",
    "            popup = 'Your Location',\n",
    "            color = 'blue',\n",
    "            fill = True,\n",
    "            fill_color='blue'\n",
    "             ).add_to(show_map)\n",
    "    \n",
    "    folium.Marker(\n",
    "            location = [Destination_lat,Destination_lon],\n",
    "            radius =5,\n",
    "            popup = 'Your Destination',\n",
    "            color = 'green',\n",
    "            fill = True,\n",
    "            fill_color='green'\n",
    "             ).add_to(show_map)\n",
    "    \n",
    "    return show_map"
   ]
  },
  {
   "cell_type": "code",
   "execution_count": 5,
   "id": "802d7c4b",
   "metadata": {},
   "outputs": [],
   "source": [
    "def distance_calculation(Location_lat, Location_lon, Destination_lat, Destination_lon):\n",
    "    \n",
    "    location = [Location_lat, Location_lon]\n",
    "    destination = [Destination_lat, Destination_lon]\n",
    "    dist=hs.haversine(location,destination)\n",
    "    print(\"The distance between your location and destination is {}\".format(dist))"
   ]
  },
  {
   "cell_type": "code",
   "execution_count": 23,
   "id": "96fe31d1",
   "metadata": {},
   "outputs": [],
   "source": [
    "style = {'description_width': 'initial'}\n",
    "Location_lon = widgets.BoundedFloatText(\n",
    "    value=76.99,\n",
    "    min=-180.00,\n",
    "    max=180.00,\n",
    "    step=0.01,\n",
    "    description='Your Location Coordinates (Longitude):',\n",
    "    disabled=False,\n",
    "    style = style\n",
    ")\n",
    "\n",
    "Location_lat = widgets.BoundedFloatText(\n",
    "    value=28.51,\n",
    "    min=-90.00,\n",
    "    max=90.00,\n",
    "    step=0.01,\n",
    "    description='Your Location Coordinates (Latitude):',\n",
    "    disabled=False,\n",
    "    style = style\n",
    ")\n",
    "\n",
    "Destination_lon = widgets.BoundedFloatText(\n",
    "    value=77.05,\n",
    "    min=-180.00,\n",
    "    max=180.00,\n",
    "    step=0.01,\n",
    "    description='Your Destination Coordinates (Longitude):',\n",
    "    disabled=False,\n",
    "    style = style\n",
    ")\n",
    "\n",
    "Destination_lat = widgets.BoundedFloatText(\n",
    "    value=28.39,\n",
    "    min=-90.00,\n",
    "    max=90.00,\n",
    "    step=0.01,\n",
    "    description='Your Destination Coordinates (Latitude):',\n",
    "    disabled=False,\n",
    "    style = style\n",
    ")\n",
    "\n",
    "Zoom = widgets.IntSlider(\n",
    "    value=10,\n",
    "    base=10,\n",
    "    min=0, # max exponent of base\n",
    "    max=20, # min exponent of base\n",
    "    step=1, # exponent step\n",
    "    description='Zoom'\n",
    ")"
   ]
  },
  {
   "cell_type": "code",
   "execution_count": 24,
   "id": "aa03743b",
   "metadata": {},
   "outputs": [
    {
     "data": {
      "application/vnd.jupyter.widget-view+json": {
       "model_id": "ccc685bceefa42e4aa9136fb276399ae",
       "version_major": 2,
       "version_minor": 0
      },
      "text/plain": [
       "Tab(children=(HBox(children=(BoundedFloatText(value=28.51, description='Your Location Coordinates (Latitude):'…"
      ]
     },
     "metadata": {},
     "output_type": "display_data"
    },
    {
     "data": {
      "application/vnd.jupyter.widget-view+json": {
       "model_id": "ee5f4167e4d74acab10e5c3113c478bd",
       "version_major": 2,
       "version_minor": 0
      },
      "text/plain": [
       "Output()"
      ]
     },
     "metadata": {},
     "output_type": "display_data"
    }
   ],
   "source": [
    "loc_box = widgets.HBox([Location_lat, Location_lon])\n",
    "des_box = widgets.HBox([Destination_lat, Destination_lon])\n",
    "tab = widgets.Tab([loc_box, des_box, Zoom])\n",
    "tab.children = [loc_box, des_box, Zoom]\n",
    "tab.set_title(0,\"Location Coordinates\")\n",
    "tab.set_title(1,\"Destination Coordinates\")\n",
    "tab.set_title(2,\"Zoom Slide\")\n",
    "\n",
    "out = widgets.interactive_output(distance_calculation, {'Location_lat': Location_lat, \n",
    "                                                      'Location_lon': Location_lon, \n",
    "                                                      \"Destination_lat\":Destination_lat,\n",
    "                                                      \"Destination_lon\":Destination_lon})\n",
    "\n",
    "display(tab,out)\n",
    "#notice that this map is not interactive\n",
    "#still working on this :("
   ]
  },
  {
   "cell_type": "code",
   "execution_count": 33,
   "id": "0000cd1e",
   "metadata": {},
   "outputs": [
    {
     "data": {
      "text/html": [
       "<div style=\"width:100%;\"><div style=\"position:relative;width:100%;height:0;padding-bottom:60%;\"><span style=\"color:#565656\">Make this Notebook Trusted to load map: File -> Trust Notebook</span><iframe srcdoc=\"&lt;!DOCTYPE html&gt;\n",
       "&lt;head&gt;    \n",
       "    &lt;meta http-equiv=&quot;content-type&quot; content=&quot;text/html; charset=UTF-8&quot; /&gt;\n",
       "    \n",
       "        &lt;script&gt;\n",
       "            L_NO_TOUCH = false;\n",
       "            L_DISABLE_3D = false;\n",
       "        &lt;/script&gt;\n",
       "    \n",
       "    &lt;style&gt;html, body {width: 100%;height: 100%;margin: 0;padding: 0;}&lt;/style&gt;\n",
       "    &lt;style&gt;#map {position:absolute;top:0;bottom:0;right:0;left:0;}&lt;/style&gt;\n",
       "    &lt;script src=&quot;https://cdn.jsdelivr.net/npm/leaflet@1.6.0/dist/leaflet.js&quot;&gt;&lt;/script&gt;\n",
       "    &lt;script src=&quot;https://code.jquery.com/jquery-1.12.4.min.js&quot;&gt;&lt;/script&gt;\n",
       "    &lt;script src=&quot;https://maxcdn.bootstrapcdn.com/bootstrap/3.2.0/js/bootstrap.min.js&quot;&gt;&lt;/script&gt;\n",
       "    &lt;script src=&quot;https://cdnjs.cloudflare.com/ajax/libs/Leaflet.awesome-markers/2.0.2/leaflet.awesome-markers.js&quot;&gt;&lt;/script&gt;\n",
       "    &lt;link rel=&quot;stylesheet&quot; href=&quot;https://cdn.jsdelivr.net/npm/leaflet@1.6.0/dist/leaflet.css&quot;/&gt;\n",
       "    &lt;link rel=&quot;stylesheet&quot; href=&quot;https://maxcdn.bootstrapcdn.com/bootstrap/3.2.0/css/bootstrap.min.css&quot;/&gt;\n",
       "    &lt;link rel=&quot;stylesheet&quot; href=&quot;https://maxcdn.bootstrapcdn.com/bootstrap/3.2.0/css/bootstrap-theme.min.css&quot;/&gt;\n",
       "    &lt;link rel=&quot;stylesheet&quot; href=&quot;https://maxcdn.bootstrapcdn.com/font-awesome/4.6.3/css/font-awesome.min.css&quot;/&gt;\n",
       "    &lt;link rel=&quot;stylesheet&quot; href=&quot;https://cdnjs.cloudflare.com/ajax/libs/Leaflet.awesome-markers/2.0.2/leaflet.awesome-markers.css&quot;/&gt;\n",
       "    &lt;link rel=&quot;stylesheet&quot; href=&quot;https://cdn.jsdelivr.net/gh/python-visualization/folium/folium/templates/leaflet.awesome.rotate.min.css&quot;/&gt;\n",
       "    \n",
       "            &lt;meta name=&quot;viewport&quot; content=&quot;width=device-width,\n",
       "                initial-scale=1.0, maximum-scale=1.0, user-scalable=no&quot; /&gt;\n",
       "            &lt;style&gt;\n",
       "                #map_2057f2fe28241d23d374567ff150caf5 {\n",
       "                    position: relative;\n",
       "                    width: 100.0%;\n",
       "                    height: 100.0%;\n",
       "                    left: 0.0%;\n",
       "                    top: 0.0%;\n",
       "                }\n",
       "            &lt;/style&gt;\n",
       "        \n",
       "&lt;/head&gt;\n",
       "&lt;body&gt;    \n",
       "    \n",
       "            &lt;div class=&quot;folium-map&quot; id=&quot;map_2057f2fe28241d23d374567ff150caf5&quot; &gt;&lt;/div&gt;\n",
       "        \n",
       "&lt;/body&gt;\n",
       "&lt;script&gt;    \n",
       "    \n",
       "            var map_2057f2fe28241d23d374567ff150caf5 = L.map(\n",
       "                &quot;map_2057f2fe28241d23d374567ff150caf5&quot;,\n",
       "                {\n",
       "                    center: [29.450000000000003, 108.52],\n",
       "                    crs: L.CRS.EPSG3857,\n",
       "                    zoom: 8,\n",
       "                    zoomControl: true,\n",
       "                    preferCanvas: false,\n",
       "                }\n",
       "            );\n",
       "\n",
       "            \n",
       "\n",
       "        \n",
       "    \n",
       "            var tile_layer_dd3ee7aaaff90de33414555943b546aa = L.tileLayer(\n",
       "                &quot;https://{s}.tile.openstreetmap.org/{z}/{x}/{y}.png&quot;,\n",
       "                {&quot;attribution&quot;: &quot;Data by \\u0026copy; \\u003ca href=\\&quot;http://openstreetmap.org\\&quot;\\u003eOpenStreetMap\\u003c/a\\u003e, under \\u003ca href=\\&quot;http://www.openstreetmap.org/copyright\\&quot;\\u003eODbL\\u003c/a\\u003e.&quot;, &quot;detectRetina&quot;: false, &quot;maxNativeZoom&quot;: 18, &quot;maxZoom&quot;: 18, &quot;minZoom&quot;: 0, &quot;noWrap&quot;: false, &quot;opacity&quot;: 1, &quot;subdomains&quot;: &quot;abc&quot;, &quot;tms&quot;: false}\n",
       "            ).addTo(map_2057f2fe28241d23d374567ff150caf5);\n",
       "        \n",
       "    \n",
       "            var marker_f97cd9f9db571f279104bc519f3299e3 = L.marker(\n",
       "                [28.51, 106.99],\n",
       "                {&quot;color&quot;: &quot;blue&quot;, &quot;fill&quot;: true, &quot;fillColor&quot;: &quot;blue&quot;, &quot;radius&quot;: 5}\n",
       "            ).addTo(map_2057f2fe28241d23d374567ff150caf5);\n",
       "        \n",
       "    \n",
       "        var popup_2cbfc1f0c2f8fff0c943cbe340a1ff88 = L.popup({&quot;maxWidth&quot;: &quot;100%&quot;});\n",
       "\n",
       "        \n",
       "            var html_49bcc837190e096fc71a48427c23a6fa = $(`&lt;div id=&quot;html_49bcc837190e096fc71a48427c23a6fa&quot; style=&quot;width: 100.0%; height: 100.0%;&quot;&gt;Your Location&lt;/div&gt;`)[0];\n",
       "            popup_2cbfc1f0c2f8fff0c943cbe340a1ff88.setContent(html_49bcc837190e096fc71a48427c23a6fa);\n",
       "        \n",
       "\n",
       "        marker_f97cd9f9db571f279104bc519f3299e3.bindPopup(popup_2cbfc1f0c2f8fff0c943cbe340a1ff88)\n",
       "        ;\n",
       "\n",
       "        \n",
       "    \n",
       "    \n",
       "            var marker_707ad81e17458650279d11e2b0a16152 = L.marker(\n",
       "                [30.39, 110.05],\n",
       "                {&quot;color&quot;: &quot;green&quot;, &quot;fill&quot;: true, &quot;fillColor&quot;: &quot;green&quot;, &quot;radius&quot;: 5}\n",
       "            ).addTo(map_2057f2fe28241d23d374567ff150caf5);\n",
       "        \n",
       "    \n",
       "        var popup_9e7165f55a15da8dcd4a65cc1f0bf9df = L.popup({&quot;maxWidth&quot;: &quot;100%&quot;});\n",
       "\n",
       "        \n",
       "            var html_ea9111853056a1679df6efced4de932d = $(`&lt;div id=&quot;html_ea9111853056a1679df6efced4de932d&quot; style=&quot;width: 100.0%; height: 100.0%;&quot;&gt;Your Destination&lt;/div&gt;`)[0];\n",
       "            popup_9e7165f55a15da8dcd4a65cc1f0bf9df.setContent(html_ea9111853056a1679df6efced4de932d);\n",
       "        \n",
       "\n",
       "        marker_707ad81e17458650279d11e2b0a16152.bindPopup(popup_9e7165f55a15da8dcd4a65cc1f0bf9df)\n",
       "        ;\n",
       "\n",
       "        \n",
       "    \n",
       "&lt;/script&gt;\" style=\"position:absolute;width:100%;height:100%;left:0;top:0;border:none !important;\" allowfullscreen webkitallowfullscreen mozallowfullscreen></iframe></div></div>"
      ],
      "text/plain": [
       "<folium.folium.Map at 0x7fce33580580>"
      ]
     },
     "execution_count": 33,
     "metadata": {},
     "output_type": "execute_result"
    }
   ],
   "source": [
    "#everytime after inputing the coordination or zoom value, make sure to reload the map\n",
    "show_map = map_visualization(Location_lat.value, Location_lon.value, \n",
    "                             Destination_lat.value, Destination_lon.value, \n",
    "                             Zoom.value)\n",
    "show_map"
   ]
  }
 ],
 "metadata": {
  "kernelspec": {
   "display_name": "Python 3",
   "language": "python",
   "name": "python3"
  },
  "language_info": {
   "codemirror_mode": {
    "name": "ipython",
    "version": 3
   },
   "file_extension": ".py",
   "mimetype": "text/x-python",
   "name": "python",
   "nbconvert_exporter": "python",
   "pygments_lexer": "ipython3",
   "version": "3.8.8"
  }
 },
 "nbformat": 4,
 "nbformat_minor": 5
}
