{
 "cells": [
  {
   "cell_type": "markdown",
   "id": "bfaed10d",
   "metadata": {},
   "source": [
    "# Distance Between Two Cities "
   ]
  },
  {
   "cell_type": "markdown",
   "id": "0ce0ad2a",
   "metadata": {},
   "source": [
    "Calculates the distance between two cities and allows the user to specify a unit of distance. This program may require finding coordinates for the cities like latitude and longitude."
   ]
  },
  {
   "cell_type": "code",
   "execution_count": 176,
   "id": "dc2e6af1",
   "metadata": {},
   "outputs": [],
   "source": [
    "import pandas as pd\n",
    "import numpy as np\n",
    "import haversine as hs\n",
    "import folium \n",
    "import ipywidgets as widgets\n",
    "from ipywidgets import widgets\n",
    "from ipywidgets import interact, interactive"
   ]
  },
  {
   "cell_type": "code",
   "execution_count": 177,
   "id": "06a1091c",
   "metadata": {},
   "outputs": [],
   "source": [
    "def map_visualization(Location_lat, Location_lon, Destination_lat, Destination_lon, Zoom):\n",
    "    \n",
    "    # Create a Map instance\n",
    "    show_map = folium.Map(location = [(Location_lat+Destination_lat)/2,\n",
    "                                    (Location_lon+Destination_lon)/2],\n",
    "                          zoom_start = Zoom, \n",
    "                          tiles='OpenStreetMap')\n",
    "    # Add marker\n",
    "    folium.Marker(\n",
    "            location = [Location_lat,Location_lon],\n",
    "            radius =5,\n",
    "            popup = 'Your Location',\n",
    "            color = 'blue',\n",
    "            fill = True,\n",
    "            fill_color='blue'\n",
    "             ).add_to(show_map)\n",
    "    \n",
    "    folium.Marker(\n",
    "            location = [Destination_lat,Destination_lon],\n",
    "            radius =5,\n",
    "            popup = 'Your Destination',\n",
    "            color = 'green',\n",
    "            fill = True,\n",
    "            fill_color='green'\n",
    "             ).add_to(show_map)\n",
    "    \n",
    "    return show_map"
   ]
  },
  {
   "cell_type": "code",
   "execution_count": 178,
   "id": "802d7c4b",
   "metadata": {},
   "outputs": [],
   "source": [
    "def distance_calculation(Location_lat, Location_lon, Destination_lat, Destination_lon):\n",
    "    \n",
    "    location = [Location_lat, Location_lon]\n",
    "    destination = [Destination_lat, Destination_lon]\n",
    "    dist=hs.haversine(location,destination)\n",
    "    print(\"The distance between your location and destination is {}\".format(dist))"
   ]
  },
  {
   "cell_type": "code",
   "execution_count": 179,
   "id": "96fe31d1",
   "metadata": {},
   "outputs": [],
   "source": [
    "style = {'description_width': 'initial'}\n",
    "Location_lon = widgets.BoundedFloatText(\n",
    "    value=76.99,\n",
    "    min=-180.00,\n",
    "    max=180.00,\n",
    "    step=0.01,\n",
    "    description='Your Location Coordinates (Longitude):',\n",
    "    disabled=False,\n",
    "    style = style\n",
    ")\n",
    "\n",
    "Location_lat = widgets.BoundedFloatText(\n",
    "    value=28.51,\n",
    "    min=-90.00,\n",
    "    max=90.00,\n",
    "    step=0.01,\n",
    "    description='Your Location Coordinates (Latitude):',\n",
    "    disabled=False,\n",
    "    style = style\n",
    ")\n",
    "\n",
    "Destination_lon = widgets.BoundedFloatText(\n",
    "    value=77.05,\n",
    "    min=-180.00,\n",
    "    max=180.00,\n",
    "    step=0.01,\n",
    "    description='Your Destination Coordinates (Longitude):',\n",
    "    disabled=False,\n",
    "    style = style\n",
    ")\n",
    "\n",
    "Destination_lat = widgets.BoundedFloatText(\n",
    "    value=28.39,\n",
    "    min=-90.00,\n",
    "    max=90.00,\n",
    "    step=0.01,\n",
    "    description='Your Destination Coordinates (Latitude):',\n",
    "    disabled=False,\n",
    "    style = style\n",
    ")\n",
    "\n",
    "Zoom = widgets.IntSlider(\n",
    "    value=10,\n",
    "    base=10,\n",
    "    min=-20, # max exponent of base\n",
    "    max=20, # min exponent of base\n",
    "    step=1, # exponent step\n",
    "    description='Zoom'\n",
    ")"
   ]
  },
  {
   "cell_type": "code",
   "execution_count": 183,
   "id": "aa03743b",
   "metadata": {},
   "outputs": [
    {
     "data": {
      "application/vnd.jupyter.widget-view+json": {
       "model_id": "3488250027c74a9baf3f57f25fcb11fd",
       "version_major": 2,
       "version_minor": 0
      },
      "text/plain": [
       "Tab(children=(HBox(children=(BoundedFloatText(value=28.51, description='Your Location Coordinates (Latitude):'…"
      ]
     },
     "metadata": {},
     "output_type": "display_data"
    },
    {
     "data": {
      "application/vnd.jupyter.widget-view+json": {
       "model_id": "fc287c1e51a841d4b91301f935bedefa",
       "version_major": 2,
       "version_minor": 0
      },
      "text/plain": [
       "Output()"
      ]
     },
     "metadata": {},
     "output_type": "display_data"
    },
    {
     "data": {
      "application/vnd.jupyter.widget-view+json": {
       "model_id": "0c9c1c36aa274a0fb41cfd0338571708",
       "version_major": 2,
       "version_minor": 0
      },
      "text/plain": [
       "Output()"
      ]
     },
     "metadata": {},
     "output_type": "display_data"
    },
    {
     "data": {
      "text/html": [
       "<div style=\"width:100%;\"><div style=\"position:relative;width:100%;height:0;padding-bottom:60%;\"><span style=\"color:#565656\">Make this Notebook Trusted to load map: File -> Trust Notebook</span><iframe srcdoc=\"&lt;!DOCTYPE html&gt;\n",
       "&lt;head&gt;    \n",
       "    &lt;meta http-equiv=&quot;content-type&quot; content=&quot;text/html; charset=UTF-8&quot; /&gt;\n",
       "    \n",
       "        &lt;script&gt;\n",
       "            L_NO_TOUCH = false;\n",
       "            L_DISABLE_3D = false;\n",
       "        &lt;/script&gt;\n",
       "    \n",
       "    &lt;style&gt;html, body {width: 100%;height: 100%;margin: 0;padding: 0;}&lt;/style&gt;\n",
       "    &lt;style&gt;#map {position:absolute;top:0;bottom:0;right:0;left:0;}&lt;/style&gt;\n",
       "    &lt;script src=&quot;https://cdn.jsdelivr.net/npm/leaflet@1.6.0/dist/leaflet.js&quot;&gt;&lt;/script&gt;\n",
       "    &lt;script src=&quot;https://code.jquery.com/jquery-1.12.4.min.js&quot;&gt;&lt;/script&gt;\n",
       "    &lt;script src=&quot;https://maxcdn.bootstrapcdn.com/bootstrap/3.2.0/js/bootstrap.min.js&quot;&gt;&lt;/script&gt;\n",
       "    &lt;script src=&quot;https://cdnjs.cloudflare.com/ajax/libs/Leaflet.awesome-markers/2.0.2/leaflet.awesome-markers.js&quot;&gt;&lt;/script&gt;\n",
       "    &lt;link rel=&quot;stylesheet&quot; href=&quot;https://cdn.jsdelivr.net/npm/leaflet@1.6.0/dist/leaflet.css&quot;/&gt;\n",
       "    &lt;link rel=&quot;stylesheet&quot; href=&quot;https://maxcdn.bootstrapcdn.com/bootstrap/3.2.0/css/bootstrap.min.css&quot;/&gt;\n",
       "    &lt;link rel=&quot;stylesheet&quot; href=&quot;https://maxcdn.bootstrapcdn.com/bootstrap/3.2.0/css/bootstrap-theme.min.css&quot;/&gt;\n",
       "    &lt;link rel=&quot;stylesheet&quot; href=&quot;https://maxcdn.bootstrapcdn.com/font-awesome/4.6.3/css/font-awesome.min.css&quot;/&gt;\n",
       "    &lt;link rel=&quot;stylesheet&quot; href=&quot;https://cdnjs.cloudflare.com/ajax/libs/Leaflet.awesome-markers/2.0.2/leaflet.awesome-markers.css&quot;/&gt;\n",
       "    &lt;link rel=&quot;stylesheet&quot; href=&quot;https://cdn.jsdelivr.net/gh/python-visualization/folium/folium/templates/leaflet.awesome.rotate.min.css&quot;/&gt;\n",
       "    \n",
       "            &lt;meta name=&quot;viewport&quot; content=&quot;width=device-width,\n",
       "                initial-scale=1.0, maximum-scale=1.0, user-scalable=no&quot; /&gt;\n",
       "            &lt;style&gt;\n",
       "                #map_b9d55e7d8952d16f75bf6b133d7d5cfc {\n",
       "                    position: relative;\n",
       "                    width: 100.0%;\n",
       "                    height: 100.0%;\n",
       "                    left: 0.0%;\n",
       "                    top: 0.0%;\n",
       "                }\n",
       "            &lt;/style&gt;\n",
       "        \n",
       "&lt;/head&gt;\n",
       "&lt;body&gt;    \n",
       "    \n",
       "            &lt;div class=&quot;folium-map&quot; id=&quot;map_b9d55e7d8952d16f75bf6b133d7d5cfc&quot; &gt;&lt;/div&gt;\n",
       "        \n",
       "&lt;/body&gt;\n",
       "&lt;script&gt;    \n",
       "    \n",
       "            var map_b9d55e7d8952d16f75bf6b133d7d5cfc = L.map(\n",
       "                &quot;map_b9d55e7d8952d16f75bf6b133d7d5cfc&quot;,\n",
       "                {\n",
       "                    center: [28.43, 76.995],\n",
       "                    crs: L.CRS.EPSG3857,\n",
       "                    zoom: 10,\n",
       "                    zoomControl: true,\n",
       "                    preferCanvas: false,\n",
       "                }\n",
       "            );\n",
       "\n",
       "            \n",
       "\n",
       "        \n",
       "    \n",
       "            var tile_layer_967c7c40ac4af92b1b2592ff0ce30d7b = L.tileLayer(\n",
       "                &quot;https://{s}.tile.openstreetmap.org/{z}/{x}/{y}.png&quot;,\n",
       "                {&quot;attribution&quot;: &quot;Data by \\u0026copy; \\u003ca href=\\&quot;http://openstreetmap.org\\&quot;\\u003eOpenStreetMap\\u003c/a\\u003e, under \\u003ca href=\\&quot;http://www.openstreetmap.org/copyright\\&quot;\\u003eODbL\\u003c/a\\u003e.&quot;, &quot;detectRetina&quot;: false, &quot;maxNativeZoom&quot;: 18, &quot;maxZoom&quot;: 18, &quot;minZoom&quot;: 0, &quot;noWrap&quot;: false, &quot;opacity&quot;: 1, &quot;subdomains&quot;: &quot;abc&quot;, &quot;tms&quot;: false}\n",
       "            ).addTo(map_b9d55e7d8952d16f75bf6b133d7d5cfc);\n",
       "        \n",
       "    \n",
       "            var marker_c26d286e8c2cf075f7d026763581c66f = L.marker(\n",
       "                [28.47, 76.99],\n",
       "                {&quot;color&quot;: &quot;blue&quot;, &quot;fill&quot;: true, &quot;fillColor&quot;: &quot;blue&quot;, &quot;radius&quot;: 5}\n",
       "            ).addTo(map_b9d55e7d8952d16f75bf6b133d7d5cfc);\n",
       "        \n",
       "    \n",
       "        var popup_12c755dd32e16575b84dcc08e3b7f573 = L.popup({&quot;maxWidth&quot;: &quot;100%&quot;});\n",
       "\n",
       "        \n",
       "            var html_8fa6aa48bb362f363ea8fb86ddf72093 = $(`&lt;div id=&quot;html_8fa6aa48bb362f363ea8fb86ddf72093&quot; style=&quot;width: 100.0%; height: 100.0%;&quot;&gt;Your Location&lt;/div&gt;`)[0];\n",
       "            popup_12c755dd32e16575b84dcc08e3b7f573.setContent(html_8fa6aa48bb362f363ea8fb86ddf72093);\n",
       "        \n",
       "\n",
       "        marker_c26d286e8c2cf075f7d026763581c66f.bindPopup(popup_12c755dd32e16575b84dcc08e3b7f573)\n",
       "        ;\n",
       "\n",
       "        \n",
       "    \n",
       "    \n",
       "            var marker_1aa17b5b7e2185dc8942f7694b870bdc = L.marker(\n",
       "                [28.39, 77.0],\n",
       "                {&quot;color&quot;: &quot;green&quot;, &quot;fill&quot;: true, &quot;fillColor&quot;: &quot;green&quot;, &quot;radius&quot;: 5}\n",
       "            ).addTo(map_b9d55e7d8952d16f75bf6b133d7d5cfc);\n",
       "        \n",
       "    \n",
       "        var popup_1b37d9c8f33492f94a460d6055123d4e = L.popup({&quot;maxWidth&quot;: &quot;100%&quot;});\n",
       "\n",
       "        \n",
       "            var html_1e472bb8155c6c6d6555838235992131 = $(`&lt;div id=&quot;html_1e472bb8155c6c6d6555838235992131&quot; style=&quot;width: 100.0%; height: 100.0%;&quot;&gt;Your Destination&lt;/div&gt;`)[0];\n",
       "            popup_1b37d9c8f33492f94a460d6055123d4e.setContent(html_1e472bb8155c6c6d6555838235992131);\n",
       "        \n",
       "\n",
       "        marker_1aa17b5b7e2185dc8942f7694b870bdc.bindPopup(popup_1b37d9c8f33492f94a460d6055123d4e)\n",
       "        ;\n",
       "\n",
       "        \n",
       "    \n",
       "&lt;/script&gt;\" style=\"position:absolute;width:100%;height:100%;left:0;top:0;border:none !important;\" allowfullscreen webkitallowfullscreen mozallowfullscreen></iframe></div></div>"
      ],
      "text/plain": [
       "<folium.folium.Map at 0x7f8a804680a0>"
      ]
     },
     "execution_count": 183,
     "metadata": {},
     "output_type": "execute_result"
    }
   ],
   "source": [
    "loc_box = widgets.HBox([Location_lat, Location_lon])\n",
    "des_box = widgets.HBox([Destination_lat, Destination_lon])\n",
    "tab = widgets.Tab([loc_box, des_box, Zoom])\n",
    "tab.children = [loc_box, des_box, Zoom]\n",
    "tab.set_title(0,\"Location Coordinates\")\n",
    "tab.set_title(1,\"Destination Coordinates\")\n",
    "tab.set_title(2,\"Zoom Slide\")\n",
    "\n",
    "show_map = map_visualization(Location_lat=28.47, Location_lon=76.99, \n",
    "                             Destination_lat=28.39, Destination_lon=77.00, \n",
    "                             Zoom=10)\n",
    "\n",
    "out = widgets.interactive_output(distance_calculation, {'Location_lat': Location_lat, \n",
    "                                                      'Location_lon': Location_lon, \n",
    "                                                      \"Destination_lat\":Destination_lat,\n",
    "                                                      \"Destination_lon\":Destination_lon})\n",
    "\n",
    "interect_map = widgets.interactive_output(map_visualization, {'Location_lat': Location_lat, \n",
    "                                                      'Location_lon': Location_lon, \n",
    "                                                      \"Destination_lat\":Destination_lat,\n",
    "                                                      \"Destination_lon\":Destination_lon,\n",
    "                                                       \"Zoom\":Zoom})\n",
    "\n",
    "\n",
    "display(tab,out,interect_map)\n",
    "show_map\n",
    "#notice that this map is not interactive\n",
    "#still working on this :("
   ]
  }
 ],
 "metadata": {
  "kernelspec": {
   "display_name": "Python 3",
   "language": "python",
   "name": "python3"
  },
  "language_info": {
   "codemirror_mode": {
    "name": "ipython",
    "version": 3
   },
   "file_extension": ".py",
   "mimetype": "text/x-python",
   "name": "python",
   "nbconvert_exporter": "python",
   "pygments_lexer": "ipython3",
   "version": "3.8.8"
  }
 },
 "nbformat": 4,
 "nbformat_minor": 5
}
