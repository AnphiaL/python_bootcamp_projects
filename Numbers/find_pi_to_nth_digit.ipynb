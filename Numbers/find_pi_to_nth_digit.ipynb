{
 "cells": [
  {
   "cell_type": "markdown",
   "id": "9ff052d2",
   "metadata": {},
   "source": [
    "# Project 1: Find PI to the Nth Digit"
   ]
  },
  {
   "cell_type": "markdown",
   "id": "a4e18b46",
   "metadata": {},
   "source": [
    "Enter a number and have the program generate PI up to that many decimal places. Keep a limit to how far the program will go."
   ]
  },
  {
   "cell_type": "markdown",
   "id": "98f97c68",
   "metadata": {},
   "source": [
    "Firstly: Understand the Nilakantha series. The Nilakantha series starts with:"
   ]
  },
  {
   "cell_type": "markdown",
   "id": "cf197b52",
   "metadata": {},
   "source": [
    "$$\\pi = 3 + \\frac{4}{2*3*4} - \\frac{4}{4*5*6} + \\frac{4}{6*7*8} - \\frac{4}{8*9*10}...$$"
   ]
  },
  {
   "cell_type": "markdown",
   "id": "7a4c6cf5",
   "metadata": {},
   "source": [
    "Secondly: calculate the decimal part"
   ]
  },
  {
   "cell_type": "markdown",
   "id": "133b32aa",
   "metadata": {},
   "source": [
    "$$\\frac{4}{(n)*(n+1)*(n+2)} + \\frac{4}{(n+2)*((n+2)+1))*((n+2)+2))}...$$"
   ]
  },
  {
   "cell_type": "code",
   "execution_count": 4,
   "id": "3c9702ae",
   "metadata": {},
   "outputs": [
    {
     "name": "stdout",
     "output_type": "stream",
     "text": [
      "Please enter the number that you want generate pi after decimal: 20\n",
      "The result is: 3.14159265358979324046\n",
      "The total time taken to run the program is: 3.7168467044830322s\n"
     ]
    }
   ],
   "source": [
    "import time\n",
    "from decimal import *\n",
    "getcontext().prec = 1000\n",
    "#set the digit precision for decimal (10000)\n",
    "\n",
    "def find_pi_to_nth_digit(nth):\n",
    "    '''\n",
    "    Enter the number and have the program generate pi up to that many decimal places\n",
    "    '''\n",
    "    \n",
    "    pi = Decimal(3.0)\n",
    "    op = 1\n",
    "    \n",
    "    for num in range(2,1000000,2):\n",
    "        pi += 4/Decimal(num*(num+1)*(num+2)*op)\n",
    "        op *= -1\n",
    "        \n",
    "    return round(pi,nth)\n",
    "\n",
    "reps = int(input(\"Please enter the number that you want generate pi after decimal: \"))\n",
    "\n",
    "start_time = time.time()\n",
    "result = find_pi_to_nth_digit(reps)\n",
    "end_time = time.time() - start_time\n",
    "print(\"The result is: {}\".format(result) + \"\\n\" + \"The total time taken to run the program is: {}s\".format(end_time))"
   ]
  }
 ],
 "metadata": {
  "kernelspec": {
   "display_name": "Python 3",
   "language": "python",
   "name": "python3"
  },
  "language_info": {
   "codemirror_mode": {
    "name": "ipython",
    "version": 3
   },
   "file_extension": ".py",
   "mimetype": "text/x-python",
   "name": "python",
   "nbconvert_exporter": "python",
   "pygments_lexer": "ipython3",
   "version": "3.8.8"
  }
 },
 "nbformat": 4,
 "nbformat_minor": 5
}
