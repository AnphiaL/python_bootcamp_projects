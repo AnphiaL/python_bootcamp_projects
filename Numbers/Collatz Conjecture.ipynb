{
 "cells": [
  {
   "cell_type": "markdown",
   "id": "8781001e",
   "metadata": {},
   "source": [
    "# Collatz Conjecture "
   ]
  },
  {
   "cell_type": "markdown",
   "id": "3cf46e7e",
   "metadata": {},
   "source": [
    "Start with a number n > 1. Find the number of steps it takes to reach one using the following process: If n is even, divide it by 2. If n is odd, multiply it by 3 and add 1."
   ]
  },
  {
   "cell_type": "code",
   "execution_count": 1,
   "id": "baa27814",
   "metadata": {},
   "outputs": [],
   "source": [
    "def collatz_conjecture(num):\n",
    "    \n",
    "    steps = 0\n",
    "    \n",
    "    while num > 1:\n",
    "        steps += 1\n",
    "        \n",
    "        if num%2 == 0:\n",
    "            num = num/2\n",
    "        else:\n",
    "            num = num*3 + 1\n",
    "    \n",
    "    return steps"
   ]
  },
  {
   "cell_type": "code",
   "execution_count": 10,
   "id": "5b900818",
   "metadata": {},
   "outputs": [
    {
     "data": {
      "text/plain": [
       "3"
      ]
     },
     "execution_count": 10,
     "metadata": {},
     "output_type": "execute_result"
    }
   ],
   "source": [
    "collatz_conjecture(8)"
   ]
  }
 ],
 "metadata": {
  "kernelspec": {
   "display_name": "Python 3",
   "language": "python",
   "name": "python3"
  },
  "language_info": {
   "codemirror_mode": {
    "name": "ipython",
    "version": 3
   },
   "file_extension": ".py",
   "mimetype": "text/x-python",
   "name": "python",
   "nbconvert_exporter": "python",
   "pygments_lexer": "ipython3",
   "version": "3.8.8"
  }
 },
 "nbformat": 4,
 "nbformat_minor": 5
}
