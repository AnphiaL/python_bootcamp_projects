{
 "cells": [
  {
   "cell_type": "markdown",
   "id": "7347b4cc",
   "metadata": {},
   "source": [
    "# Mortgage Calculator"
   ]
  },
  {
   "cell_type": "markdown",
   "id": "8a852c0c",
   "metadata": {},
   "source": [
    "Calculate the monthly payments of a fixed term mortgage over given Nth terms at a given interest rate. Also figure out how long it will take the user to pay back the loan. For added complexity, add an option for users to select the compounding interval (Monthly, Weekly, Daily, Continually)."
   ]
  },
  {
   "cell_type": "code",
   "execution_count": 7,
   "id": "412ebe79",
   "metadata": {},
   "outputs": [],
   "source": [
    "from decimal import Decimal"
   ]
  },
  {
   "cell_type": "code",
   "execution_count": 11,
   "id": "fc4b649c",
   "metadata": {},
   "outputs": [],
   "source": [
    "def input_parameters():\n",
    "    \n",
    "    n_term = int(input(\"Please enter the fixed term (Month, Week or Day): \"))\n",
    "    mortgage = Decimal(input(\"Please enter the mortgage (millon dollar): \"))\n",
    "    interte_rate = Decimal(input(\"Please enter the interest rate: \"))\n",
    "    comouding_interval = input(\"Please choose compouding interval: Monthly, Weekly or Daily? \")\n",
    "    while comouding_interval not in [\"Monthly\",\"Weekly\",\"Daily\"]:\n",
    "        comouding_interval = input(\"I don't understand. Please choose compouding interval: Monthly, Weekly or Daily? \")\n",
    "\n",
    "    return [n_term,mortgage,interte_rate,comouding_interval]\n"
   ]
  },
  {
   "cell_type": "code",
   "execution_count": 4,
   "id": "19c2ed90",
   "metadata": {},
   "outputs": [],
   "source": [
    "def calculating_mortgage(input_list):\n",
    "    \n",
    "    if input_list[3] == \"Monthly\":\n",
    "        payment = input_list[1]*input_list[2]/input_list[0]\n",
    "        print(\"Your monthly payment is {}\".format(payment))\n",
    "        \n",
    "    elif input_list[3] == \"Weekly\":\n",
    "        payment = input_list[1]*input_list[2]/input_list[0]\n",
    "        print(\"Your weekly payment is {}\".format(payment))\n",
    "        \n",
    "    elif input_list[3] == \"Daily\":\n",
    "        payment = input_list[1]*input_list[2]/input_list[0]\n",
    "        print(\"Your daily payment is {}\".format(payment))"
   ]
  },
  {
   "cell_type": "code",
   "execution_count": 12,
   "id": "be9b74fb",
   "metadata": {},
   "outputs": [
    {
     "name": "stdout",
     "output_type": "stream",
     "text": [
      "Please enter the fixed term (Month, Week or Day): 100\n",
      "Please enter the mortgage (millon dollar): 4\n",
      "Please enter the interest rate: 1.1\n",
      "Please choose compouding interval: Monthly, Weekly or Daily? Monthly\n",
      "Your monthly payment is 0.044\n"
     ]
    }
   ],
   "source": [
    "result = input_parameters()\n",
    "calculating_mortgage(result)"
   ]
  }
 ],
 "metadata": {
  "kernelspec": {
   "display_name": "Python 3",
   "language": "python",
   "name": "python3"
  },
  "language_info": {
   "codemirror_mode": {
    "name": "ipython",
    "version": 3
   },
   "file_extension": ".py",
   "mimetype": "text/x-python",
   "name": "python",
   "nbconvert_exporter": "python",
   "pygments_lexer": "ipython3",
   "version": "3.8.8"
  }
 },
 "nbformat": 4,
 "nbformat_minor": 5
}
