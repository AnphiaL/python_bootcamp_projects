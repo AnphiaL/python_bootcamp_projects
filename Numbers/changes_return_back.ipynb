{
 "cells": [
  {
   "cell_type": "markdown",
   "id": "610c4b9e",
   "metadata": {},
   "source": [
    "# Change Return Program"
   ]
  },
  {
   "cell_type": "markdown",
   "id": "a2f58f97",
   "metadata": {},
   "source": [
    " The user enters a cost and then the amount of money given. The program will figure out the change and the number of quarters, dimes, nickels, pennies needed for the change."
   ]
  },
  {
   "cell_type": "code",
   "execution_count": 2,
   "id": "c80a2b85",
   "metadata": {},
   "outputs": [],
   "source": [
    "from decimal import Decimal"
   ]
  },
  {
   "cell_type": "code",
   "execution_count": 71,
   "id": "1083e415",
   "metadata": {},
   "outputs": [
    {
     "name": "stdout",
     "output_type": "stream",
     "text": [
      "Please enter the cost: 30.98\n"
     ]
    }
   ],
   "source": [
    "cost = float(input(\"Please enter the cost: \"))"
   ]
  },
  {
   "cell_type": "code",
   "execution_count": 87,
   "id": "7b133cff",
   "metadata": {},
   "outputs": [],
   "source": [
    "class paper_money:\n",
    "    \n",
    "    def __init__(self,dollars,quaters,dimes,nickles,pennies):\n",
    "        self.dollars = dollars\n",
    "        self.quaters = quaters\n",
    "        self.dimes = dimes\n",
    "        self.nickles = nickles\n",
    "        self.pennies = pennies\n",
    "        self.digit = self.dollars + self.quaters*0.25 + self.dimes*0.1 + self.nickles*0.05 + self.pennies*0.01\n",
    "    "
   ]
  },
  {
   "cell_type": "code",
   "execution_count": 63,
   "id": "0ebd9a4b",
   "metadata": {},
   "outputs": [],
   "source": [
    "class digit_money:\n",
    "    \n",
    "    def __init__(self,digit):\n",
    "        self.digit = digit\n",
    "        self.dollars = self.digit//1.0\n",
    "        self.quaters = (self.digit-self.dollars)//0.25\n",
    "        self.dimes = (self.digit-self.dollars-self.quaters*0.25)//0.1\n",
    "        self.nickles = (self.digit-self.dollars-self.quaters*0.25-self.dimes*0.1)//0.05\n",
    "        self.pennies = (self.digit-self.dollars-self.quaters*0.25-self.dimes*0.1-self.nickles*0.05)//0.01\n",
    "        \n",
    "    def from_digit_changes_to_paper(self):\n",
    "        print(\"{} dollars\".format(self.dollars) + \"\\n\" + \"{} quaters\".format(self.quaters) + \"\\n\" + \"{} dimes\".format(self.dimes) + \"\\n\" + \"{} nickles\".format(self.nickles) + \"\\n\" + \"{} pennies\".format(self.pennies) )\n",
    "        "
   ]
  },
  {
   "cell_type": "code",
   "execution_count": 52,
   "id": "93526d0c",
   "metadata": {},
   "outputs": [
    {
     "name": "stdout",
     "output_type": "stream",
     "text": [
      "Please enter the number of given dollars: 40\n",
      "Please enter the number of given quaters: 5\n",
      "Please enter the number of given dimes: 2\n",
      "Please enter the number of given nickles: 1\n",
      "Please enter the number of given pennies: 1\n"
     ]
    }
   ],
   "source": [
    "money_given_dollars = input(\"Please enter the number of given dollars: \")\n",
    "while money_given_dollars.isdigit() == False:\n",
    "    money_given_dollars = input(\"I don't understand. Please enter the number of given dollars: \")\n",
    "\n",
    "money_given_quaters = input(\"Please enter the number of given quaters: \")\n",
    "while money_given_quaters.isdigit() == False:\n",
    "    money_given_quaters = input(\"I don't understand. Please enter the number of given quaters: \")\n",
    "    \n",
    "money_given_dimes = input(\"Please enter the number of given dimes: \")\n",
    "while money_given_dimes.isdigit() == False:\n",
    "    money_given_dimes = input(\"I don't understand. Please enter the number of given dimes: \")\n",
    "\n",
    "money_given_nickles = input(\"Please enter the number of given nickles: \")\n",
    "while money_given_nickles.isdigit() == False:\n",
    "    money_given_nickles = input(\"I don't understand. Please enter the number of given nickles: \")\n",
    "\n",
    "money_given_pennies = input(\"Please enter the number of given pennies: \")\n",
    "while money_given_pennies.isdigit() == False:\n",
    "    money_given_pennies = input(\"I don't understand. Please enter the number of given pennies: \")"
   ]
  },
  {
   "cell_type": "code",
   "execution_count": 72,
   "id": "f6638a64",
   "metadata": {},
   "outputs": [],
   "source": [
    "cost = digit_money(cost)"
   ]
  },
  {
   "cell_type": "code",
   "execution_count": 88,
   "id": "507b5fea",
   "metadata": {},
   "outputs": [],
   "source": [
    "money_given = paper_money(int(money_given_dollars),int(money_given_quaters),int(money_given_dimes),int(money_given_nickles),int(money_given_pennies))"
   ]
  },
  {
   "cell_type": "code",
   "execution_count": 106,
   "id": "6e8bccbe",
   "metadata": {},
   "outputs": [],
   "source": [
    "def check_change(cost,money_from_custom):\n",
    "    \n",
    "    if cost.digit > money_from_custom.digit:\n",
    "        short = cost.digit - money_from_custom.digit\n",
    "        print(\"The payment is not enough. You are still {} dollars short.\".format(short))\n",
    "    \n",
    "    elif cost.digit == money_from_custom.digit:\n",
    "        print(\"Thanks! Your payment is just the right amount!\")\n",
    "    \n",
    "    else:\n",
    "        changes = money_from_custom.digit - cost.digit\n",
    "        changes = digit_money(changes)\n",
    "        print(\"Changes will be: \")\n",
    "        changes.from_digit_changes_to_paper()"
   ]
  },
  {
   "cell_type": "code",
   "execution_count": 107,
   "id": "52bd50f0",
   "metadata": {},
   "outputs": [
    {
     "name": "stdout",
     "output_type": "stream",
     "text": [
      "Changes will be: \n",
      "10.0 dollars\n",
      "2.0 quaters\n",
      "0.0 dimes\n",
      "0.0 nickles\n",
      "2.0 pennies\n"
     ]
    }
   ],
   "source": [
    "check_change(cost, money_given)"
   ]
  }
 ],
 "metadata": {
  "kernelspec": {
   "display_name": "Python 3",
   "language": "python",
   "name": "python3"
  },
  "language_info": {
   "codemirror_mode": {
    "name": "ipython",
    "version": 3
   },
   "file_extension": ".py",
   "mimetype": "text/x-python",
   "name": "python",
   "nbconvert_exporter": "python",
   "pygments_lexer": "ipython3",
   "version": "3.8.8"
  }
 },
 "nbformat": 4,
 "nbformat_minor": 5
}
