{
 "cells": [
  {
   "cell_type": "markdown",
   "id": "0ad5f8b0",
   "metadata": {},
   "source": [
    "# Minimum Spanning Tree"
   ]
  },
  {
   "cell_type": "markdown",
   "id": "905db699",
   "metadata": {},
   "source": [
    "Create a program which takes a connected, undirected graph with weights and outputs the minimum spanning tree of the graph i.e., a subgraph that is a tree, contains all the vertices, and the sum of its weights is the least possible."
   ]
  },
  {
   "cell_type": "markdown",
   "id": "6f3ee32f",
   "metadata": {},
   "source": [
    "**What is minimum spanning tree?**\n",
    "\n",
    "A minimum spanning tree is a graph consisting of the subset of edges which together connect all connected nodes, while minimizing the total sum of weights on the edges. This is computed using the Kruskal algorithm.\n",
    "\n",
    "**Examples**\n",
    "\n",
    "The following example shows the computation of a minimum spanning tree over a simple four-component graph:\n",
    "\n",
    "```\n",
    " input graph             minimum spanning tree\n",
    "\n",
    "     (0)                         (0)\n",
    "    /   \\                       /\n",
    "   3     8                     3\n",
    "  /       \\                   /\n",
    "(3)---5---(1)               (3)---5---(1)\n",
    "  \\       /                           /\n",
    "   6     2                           2\n",
    "    \\   /                           /\n",
    "     (2)                         (2)\n",
    "```"
   ]
  },
  {
   "cell_type": "markdown",
   "id": "13d125fd",
   "metadata": {},
   "source": [
    "[scipy.sparse.csgraph.minimum_spanning_tree](https://docs.scipy.org/doc/scipy/reference/generated/scipy.sparse.csgraph.minimum_spanning_tree.html#:~:text=A%20minimum%20spanning%20tree%20is,computed%20using%20the%20Kruskal%20algorithm.)"
   ]
  },
  {
   "cell_type": "code",
   "execution_count": 4,
   "id": "9e89ff54",
   "metadata": {},
   "outputs": [],
   "source": [
    "from scipy.sparse import csr_matrix"
   ]
  },
  {
   "cell_type": "code",
   "execution_count": 5,
   "id": "9aab71a6",
   "metadata": {},
   "outputs": [],
   "source": [
    "from scipy.sparse.csgraph import minimum_spanning_tree"
   ]
  },
  {
   "cell_type": "code",
   "execution_count": 6,
   "id": "ff28fc7e",
   "metadata": {},
   "outputs": [],
   "source": [
    "x = csr_matrix([[0,8,0,3],\n",
    "                [0,0,2,5],\n",
    "                [0,0,0,6],\n",
    "                [0,0,0,0]])"
   ]
  },
  {
   "cell_type": "code",
   "execution_count": 7,
   "id": "63257a55",
   "metadata": {},
   "outputs": [],
   "source": [
    "tscr = minimum_spanning_tree(x)"
   ]
  },
  {
   "cell_type": "code",
   "execution_count": 8,
   "id": "981ab3ad",
   "metadata": {},
   "outputs": [
    {
     "data": {
      "text/plain": [
       "array([[0, 0, 0, 3],\n",
       "       [0, 0, 2, 5],\n",
       "       [0, 0, 0, 0],\n",
       "       [0, 0, 0, 0]])"
      ]
     },
     "execution_count": 8,
     "metadata": {},
     "output_type": "execute_result"
    }
   ],
   "source": [
    "tscr.toarray().astype(int)"
   ]
  },
  {
   "cell_type": "markdown",
   "id": "88ea1276",
   "metadata": {},
   "source": [
    "It is easy to see from inspection that the minimum spanning tree involves removing the edges with weights 8 and 6. "
   ]
  }
 ],
 "metadata": {
  "kernelspec": {
   "display_name": "Python 3 (ipykernel)",
   "language": "python",
   "name": "python3"
  },
  "language_info": {
   "codemirror_mode": {
    "name": "ipython",
    "version": 3
   },
   "file_extension": ".py",
   "mimetype": "text/x-python",
   "name": "python",
   "nbconvert_exporter": "python",
   "pygments_lexer": "ipython3",
   "version": "3.8.8"
  }
 },
 "nbformat": 4,
 "nbformat_minor": 5
}
