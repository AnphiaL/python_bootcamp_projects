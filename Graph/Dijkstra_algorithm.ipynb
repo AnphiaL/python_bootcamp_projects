{
 "cells": [
  {
   "cell_type": "markdown",
   "id": "86e34bcb",
   "metadata": {},
   "source": [
    "# Dijkstra’s Algorithm"
   ]
  },
  {
   "cell_type": "markdown",
   "id": "c0c860b6",
   "metadata": {},
   "source": [
    "Create a program that finds the shortest path through a graph using its edges."
   ]
  },
  {
   "cell_type": "markdown",
   "id": "8d443b98",
   "metadata": {},
   "source": [
    "Given a graph and a source vertex in the graph, find the shortest paths from source to all vertices in the given graph.\n",
    "\n",
    "Dijkstra’s algorithm is very similar to Prim’s algorithm for minimum spanning tree. Like Prim’s MST, we generate an SPT (shortest path tree) with a given source as root. We maintain two sets, one set contains vertices included in the shortest-path tree, another set includes vertices not yet included in the shortest-path tree. At every step of the algorithm, we find a vertex that is in the other set (set of not yet included) and has a minimum distance from the source.\n",
    "\n",
    "Below are the detailed steps used in Dijkstra’s algorithm to find the shortest path from a single source vertex to all other vertices in the given graph. "
   ]
  },
  {
   "cell_type": "markdown",
   "id": "c0273f02",
   "metadata": {},
   "source": [
    "**Algorithm**\n",
    "\n",
    "1) Create a set sptSet (shortest path tree set) that keeps track of vertices included in shortest path tree, i.e., whose minimum distance from source is calculated and finalized. Initially, this set is empty. \n",
    "\n",
    "2) Assign a distance value to all vertices in the input graph. Initialize all distance values as INFINITE. Assign distance value as 0 for the source vertex so that it is picked first. \n",
    "\n",
    "3) While sptSet doesn’t include all vertices: \n",
    "\n",
    "Pick a vertex u which is not there in sptSet and has minimum distance value.\n",
    "\n",
    "Include u to sptSet.\n",
    "\n",
    "Update distance value of all adjacent vertices of u. To update the distance values, iterate through all adjacent vertices. For every adjacent vertex v, if the sum of a distance value of u (from source) and weight of edge u-v, is less than the distance value of v, then update the distance value of v."
   ]
  },
  {
   "cell_type": "markdown",
   "id": "22494864",
   "metadata": {},
   "source": [
    "**A dijkstra's algorithm need an adjacency matrix as input**\n",
    "\n",
    "**adjacency matrix**\n",
    "\n",
    "[source](https://www.programiz.com/dsa/graph-adjacency-matrix#:~:text=An%20adjacency%20matrix%20is%20a,direct%20path%20between%20two%20vertices.)\n",
    "\n",
    "What is adjacency matrix?\n",
    "\n",
    "![example1](https://cdn.programiz.com/cdn/farfuture/D4ZDkt48bFeDTUG5iItf5AsHiZqU7YNCZnUBupDy3ns/mtime:1625029498/sites/tutorial2program/files/adjacency-matrix-graph.png)\n",
    "We can represent this graph in matrix form like below.\n",
    "![matrix1](https://cdn.programiz.com/cdn/farfuture/SqnxMX0jM7bHMa6iXsjpbr5i3I0GSGDPHHtP2MnB9tg/mtime:1625113914/sites/tutorial2program/files/adjacency-matrix-representation_1.png)"
   ]
  },
  {
   "cell_type": "markdown",
   "id": "f6abfade",
   "metadata": {},
   "source": [
    "tips:\n",
    "\n",
    "A distance between 2 vertices means these 2 vertices are connected in the graph.\n",
    "\n",
    "The distance between a vertice and itself is 0."
   ]
  },
  {
   "cell_type": "code",
   "execution_count": 1,
   "id": "d4ed1978",
   "metadata": {},
   "outputs": [
    {
     "name": "stdout",
     "output_type": "stream",
     "text": [
      "Vertex \t Distance from Source\n",
      "0 \t\t 0\n",
      "1 \t\t 4\n",
      "2 \t\t 12\n",
      "3 \t\t 19\n",
      "4 \t\t 21\n",
      "5 \t\t 11\n",
      "6 \t\t 9\n",
      "7 \t\t 8\n",
      "8 \t\t 14\n"
     ]
    }
   ],
   "source": [
    "# Python program for Dijkstra's single\n",
    "# source shortest path algorithm. The program is\n",
    "# for adjacency matrix representation of the graph\n",
    "class Graph():\n",
    " \n",
    "    def __init__(self, vertices):\n",
    "        self.V = vertices\n",
    "        self.graph = [[0 for column in range(vertices)]\n",
    "                      for row in range(vertices)]\n",
    " \n",
    "    def printSolution(self, dist):\n",
    "        print(\"Vertex \\t Distance from Source\")\n",
    "        for node in range(self.V):\n",
    "            print(node, \"\\t\\t\", dist[node])\n",
    " \n",
    "    # A utility function to find the vertex with\n",
    "    # minimum distance value, from the set of vertices\n",
    "    # not yet included in shortest path tree\n",
    "    def minDistance(self, dist, sptSet):\n",
    " \n",
    "        # Initialize minimum distance for next node\n",
    "        min = 1e7\n",
    " \n",
    "        # Search not nearest vertex not in the\n",
    "        # shortest path tree\n",
    "        for v in range(self.V):\n",
    "            if dist[v] < min and sptSet[v] == False:\n",
    "                min = dist[v]\n",
    "                min_index = v\n",
    " \n",
    "        return min_index\n",
    " \n",
    "    # Function that implements Dijkstra's single source\n",
    "    # shortest path algorithm for a graph represented\n",
    "    # using adjacency matrix representation\n",
    "    def dijkstra(self, src): \n",
    "        #src is the start vertice\n",
    " \n",
    "        dist = [1e7] * self.V\n",
    "        dist[src] = 0\n",
    "        sptSet = [False] * self.V\n",
    " \n",
    "        for cout in range(self.V):\n",
    "            # Pick the minimum distance vertex from\n",
    "            # the set of vertices not yet processed.\n",
    "            # u is always equal to src in first iteration\n",
    "            u = self.minDistance(dist, sptSet)\n",
    " \n",
    "            # Put the minimum distance vertex in the\n",
    "            # shortest path tree\n",
    "            sptSet[u] = True\n",
    " \n",
    "            # Update dist value of the adjacent vertices\n",
    "            # of the picked vertex only if the current\n",
    "            # distance is greater than new distance and\n",
    "            # the vertex in not in the shortest path tree\n",
    "            for v in range(self.V):\n",
    "                if (self.graph[u][v] > 0 and\n",
    "                   sptSet[v] == False and\n",
    "                   dist[v] > dist[u] + self.graph[u][v]):\n",
    "                    dist[v] = dist[u] + self.graph[u][v]\n",
    " \n",
    "        self.printSolution(dist)\n",
    " \n",
    "# Driver program\n",
    "g = Graph(9)\n",
    "g.graph = [[0, 4, 0, 0, 0, 0, 0, 8, 0],\n",
    "           [4, 0, 8, 0, 0, 0, 0, 11, 0],\n",
    "           [0, 8, 0, 7, 0, 4, 0, 0, 2],\n",
    "           [0, 0, 7, 0, 9, 14, 0, 0, 0],\n",
    "           [0, 0, 0, 9, 0, 10, 0, 0, 0],\n",
    "           [0, 0, 4, 14, 10, 0, 2, 0, 0],\n",
    "           [0, 0, 0, 0, 0, 2, 0, 1, 6],\n",
    "           [8, 11, 0, 0, 0, 0, 1, 0, 7],\n",
    "           [0, 0, 2, 0, 0, 0, 6, 7, 0]\n",
    "           ]\n",
    " \n",
    "g.dijkstra(0)"
   ]
  }
 ],
 "metadata": {
  "kernelspec": {
   "display_name": "Python 3 (ipykernel)",
   "language": "python",
   "name": "python3"
  },
  "language_info": {
   "codemirror_mode": {
    "name": "ipython",
    "version": 3
   },
   "file_extension": ".py",
   "mimetype": "text/x-python",
   "name": "python",
   "nbconvert_exporter": "python",
   "pygments_lexer": "ipython3",
   "version": "3.8.8"
  }
 },
 "nbformat": 4,
 "nbformat_minor": 5
}
