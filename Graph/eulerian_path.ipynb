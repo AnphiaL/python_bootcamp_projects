{
 "cells": [
  {
   "cell_type": "markdown",
   "id": "6605f35c",
   "metadata": {},
   "source": [
    "# Eulerian Path"
   ]
  },
  {
   "cell_type": "markdown",
   "id": "a1fc4eed",
   "metadata": {},
   "source": [
    "Create a program which will take as an input a graph and output either a Eulerian path or a Eulerian cycle, or state that it is not possible. A Eulerian Path starts at one node and traverses every edge of a graph through every node and finishes at another node. A Eulerian cycle is a eulerian Path that starts and finishes at the same node."
   ]
  },
  {
   "cell_type": "markdown",
   "id": "d4641997",
   "metadata": {},
   "source": [
    "![eulerian path](https://media.geeksforgeeks.org/wp-content/cdn-uploads/Euler1.png)"
   ]
  },
  {
   "cell_type": "markdown",
   "id": "a441c5eb",
   "metadata": {},
   "source": [
    "![eulerian circle](https://media.geeksforgeeks.org/wp-content/cdn-uploads/Euler2.png)"
   ]
  },
  {
   "cell_type": "markdown",
   "id": "8dd76ee0",
   "metadata": {},
   "source": [
    "[reference](https://www.geeksforgeeks.org/eulerian-path-and-circuit/)"
   ]
  },
  {
   "cell_type": "markdown",
   "id": "eb076224",
   "metadata": {},
   "source": [
    "**Euler Paths and Circuits**\n",
    "\n",
    "**A graph has an Euler circuit if and only if the degree of every vertex is even.**\n",
    "\n",
    "**A graph has an Euler path if and only if there are at most two vertices with odd degree.**"
   ]
  },
  {
   "cell_type": "markdown",
   "id": "c559deca",
   "metadata": {},
   "source": [
    "[reference](http://discrete.openmathbooks.org/dmoi2/sec_paths.html#:~:text=A%20graph%20has%20an%20Euler%20circuit%20if%20and%20only%20if,two%20vertices%20with%20odd%20degree.)"
   ]
  },
  {
   "cell_type": "code",
   "execution_count": 40,
   "id": "828932ef",
   "metadata": {},
   "outputs": [
    {
     "data": {
      "text/plain": [
       "True"
      ]
     },
     "execution_count": 40,
     "metadata": {},
     "output_type": "execute_result"
    },
    {
     "data": {
      "image/png": "[encoded data removed]",
      "text/plain": [
       "<Figure size 432x288 with 1 Axes>"
      ]
     },
     "metadata": {},
     "output_type": "display_data"
    }
   ],
   "source": [
    "import plotly.graph_objects as go\n",
    "\n",
    "import networkx as nx\n",
    "\n",
    "import matplotlib.pyplot as plt\n",
    "\n",
    "G = nx.Graph()\n",
    "\n",
    "elist = [(1,2), (1,5), (2,5), (5,3), (3,4), (4,5)]\n",
    "\n",
    "G.add_edges_from(elist)\n",
    "\n",
    "nx.draw(G, pos=nx.circular_layout(G), node_color='r', edge_color='b')\n",
    "\n",
    "nx.is_eulerian(G) #check whether the plot has eulerian cycle"
   ]
  },
  {
   "cell_type": "code",
   "execution_count": 32,
   "id": "19b32ee6",
   "metadata": {},
   "outputs": [
    {
     "data": {
      "text/plain": [
       "False"
      ]
     },
     "execution_count": 32,
     "metadata": {},
     "output_type": "execute_result"
    },
    {
     "data": {
      "image/png": "[encoded data removed]",
      "text/plain": [
       "<Figure size 432x288 with 1 Axes>"
      ]
     },
     "metadata": {},
     "output_type": "display_data"
    }
   ],
   "source": [
    "G = nx.Graph()\n",
    "\n",
    "elist = [(1,2), (2,3), (3,4), (3,5), (4,5)] #the first default edge starts from 1\n",
    "\n",
    "G.add_edges_from(elist)\n",
    "\n",
    "nx.draw(G, pos=nx.circular_layout(G), node_color='b', edge_color='g')\n",
    "\n",
    "nx.is_eulerian(G)"
   ]
  },
  {
   "cell_type": "code",
   "execution_count": 15,
   "id": "b2668258",
   "metadata": {},
   "outputs": [
    {
     "data": {
      "text/plain": [
       "EdgeView([(1, 2), (2, 3), (3, 4), (3, 5), (4, 5)])"
      ]
     },
     "execution_count": 15,
     "metadata": {},
     "output_type": "execute_result"
    }
   ],
   "source": [
    "G.edges"
   ]
  },
  {
   "cell_type": "code",
   "execution_count": 18,
   "id": "8de9e96a",
   "metadata": {},
   "outputs": [
    {
     "data": {
      "text/plain": [
       "NodeView((1, 2, 3, 4, 5))"
      ]
     },
     "execution_count": 18,
     "metadata": {},
     "output_type": "execute_result"
    }
   ],
   "source": [
    "G.node"
   ]
  },
  {
   "cell_type": "code",
   "execution_count": 28,
   "id": "144833fd",
   "metadata": {},
   "outputs": [
    {
     "data": {
      "text/plain": [
       "DegreeView({1: 1, 2: 2, 3: 3, 4: 2, 5: 2})"
      ]
     },
     "execution_count": 28,
     "metadata": {},
     "output_type": "execute_result"
    }
   ],
   "source": [
    "G.degree"
   ]
  },
  {
   "cell_type": "code",
   "execution_count": 38,
   "id": "dc0d5e91",
   "metadata": {},
   "outputs": [],
   "source": [
    "def eulerian_check(graph):\n",
    "    \n",
    "    odd_degree_num = 0\n",
    "    \n",
    "    for node in graph.node:\n",
    "        if graph.degree[node]%2 != 0:\n",
    "            odd_degree_num += 1\n",
    "    \n",
    "    if odd_degree_num == 0:\n",
    "        return(\"This plot has Eulerian Cycle.\")\n",
    "    elif odd_degree_num <= 2:\n",
    "        return('This plot has Eulerian Path.')\n",
    "    else:\n",
    "        return('This plot is not Eulerian.')"
   ]
  },
  {
   "cell_type": "code",
   "execution_count": 41,
   "id": "35621b66",
   "metadata": {},
   "outputs": [
    {
     "data": {
      "text/plain": [
       "'This plot has Eulerian Cycle.'"
      ]
     },
     "execution_count": 41,
     "metadata": {},
     "output_type": "execute_result"
    }
   ],
   "source": [
    "eulerian_check(G)"
   ]
  }
 ],
 "metadata": {
  "kernelspec": {
   "display_name": "Python 3 (ipykernel)",
   "language": "python",
   "name": "python3"
  },
  "language_info": {
   "codemirror_mode": {
    "name": "ipython",
    "version": 3
   },
   "file_extension": ".py",
   "mimetype": "text/x-python",
   "name": "python",
   "nbconvert_exporter": "python",
   "pygments_lexer": "ipython3",
   "version": "3.8.8"
  }
 },
 "nbformat": 4,
 "nbformat_minor": 5
}
